{
  "nbformat": 4,
  "nbformat_minor": 0,
  "metadata": {
    "colab": {
      "provenance": [],
      "authorship_tag": "ABX9TyP01X0yV3E5xW+tG2Z2i2cF",
      "include_colab_link": true
    },
    "kernelspec": {
      "name": "python3",
      "display_name": "Python 3"
    },
    "language_info": {
      "name": "python"
    }
  },
  "cells": [
    {
      "cell_type": "markdown",
      "metadata": {
        "id": "view-in-github",
        "colab_type": "text"
      },
      "source": [
        "<a href=\"https://colab.research.google.com/github/dourivaljunior/Curso-de-Data-Science/blob/main/aula_data_science_estudo_de_vendas_ecommerce.ipynb\" target=\"_parent\"><img src=\"https://colab.research.google.com/assets/colab-badge.svg\" alt=\"Open In Colab\"/></a>"
      ]
    },
    {
      "cell_type": "markdown",
      "source": [
        "#Estudo de Vendas de um e-commerce."
      ],
      "metadata": {
        "id": "m7GnISuI2w7F"
      }
    },
    {
      "cell_type": "code",
      "source": [
        "import numpy as np\n",
        "import pandas as pd\n",
        "import matplotlib.pyplot as plt\n",
        "import datetime"
      ],
      "metadata": {
        "id": "bmgnifan22n9"
      },
      "execution_count": null,
      "outputs": []
    },
    {
      "cell_type": "markdown",
      "source": [
        "# Importando o arquivo (banco de dados)"
      ],
      "metadata": {
        "id": "CRSJEVFx3Ijs"
      }
    },
    {
      "cell_type": "code",
      "source": [
        "from google.colab import files \n",
        "uploaded = files.upload()"
      ],
      "metadata": {
        "colab": {
          "base_uri": "https://localhost:8080/",
          "height": 74
        },
        "id": "EXkYfA6423kB",
        "outputId": "f432f0e4-f735-48c2-aa60-936ff9d9f801"
      },
      "execution_count": null,
      "outputs": [
        {
          "output_type": "display_data",
          "data": {
            "text/plain": [
              "<IPython.core.display.HTML object>"
            ],
            "text/html": [
              "\n",
              "     <input type=\"file\" id=\"files-84cb4108-a2fc-496b-905a-7dc9ed5b35ae\" name=\"files[]\" multiple disabled\n",
              "        style=\"border:none\" />\n",
              "     <output id=\"result-84cb4108-a2fc-496b-905a-7dc9ed5b35ae\">\n",
              "      Upload widget is only available when the cell has been executed in the\n",
              "      current browser session. Please rerun this cell to enable.\n",
              "      </output>\n",
              "      <script>// Copyright 2017 Google LLC\n",
              "//\n",
              "// Licensed under the Apache License, Version 2.0 (the \"License\");\n",
              "// you may not use this file except in compliance with the License.\n",
              "// You may obtain a copy of the License at\n",
              "//\n",
              "//      http://www.apache.org/licenses/LICENSE-2.0\n",
              "//\n",
              "// Unless required by applicable law or agreed to in writing, software\n",
              "// distributed under the License is distributed on an \"AS IS\" BASIS,\n",
              "// WITHOUT WARRANTIES OR CONDITIONS OF ANY KIND, either express or implied.\n",
              "// See the License for the specific language governing permissions and\n",
              "// limitations under the License.\n",
              "\n",
              "/**\n",
              " * @fileoverview Helpers for google.colab Python module.\n",
              " */\n",
              "(function(scope) {\n",
              "function span(text, styleAttributes = {}) {\n",
              "  const element = document.createElement('span');\n",
              "  element.textContent = text;\n",
              "  for (const key of Object.keys(styleAttributes)) {\n",
              "    element.style[key] = styleAttributes[key];\n",
              "  }\n",
              "  return element;\n",
              "}\n",
              "\n",
              "// Max number of bytes which will be uploaded at a time.\n",
              "const MAX_PAYLOAD_SIZE = 100 * 1024;\n",
              "\n",
              "function _uploadFiles(inputId, outputId) {\n",
              "  const steps = uploadFilesStep(inputId, outputId);\n",
              "  const outputElement = document.getElementById(outputId);\n",
              "  // Cache steps on the outputElement to make it available for the next call\n",
              "  // to uploadFilesContinue from Python.\n",
              "  outputElement.steps = steps;\n",
              "\n",
              "  return _uploadFilesContinue(outputId);\n",
              "}\n",
              "\n",
              "// This is roughly an async generator (not supported in the browser yet),\n",
              "// where there are multiple asynchronous steps and the Python side is going\n",
              "// to poll for completion of each step.\n",
              "// This uses a Promise to block the python side on completion of each step,\n",
              "// then passes the result of the previous step as the input to the next step.\n",
              "function _uploadFilesContinue(outputId) {\n",
              "  const outputElement = document.getElementById(outputId);\n",
              "  const steps = outputElement.steps;\n",
              "\n",
              "  const next = steps.next(outputElement.lastPromiseValue);\n",
              "  return Promise.resolve(next.value.promise).then((value) => {\n",
              "    // Cache the last promise value to make it available to the next\n",
              "    // step of the generator.\n",
              "    outputElement.lastPromiseValue = value;\n",
              "    return next.value.response;\n",
              "  });\n",
              "}\n",
              "\n",
              "/**\n",
              " * Generator function which is called between each async step of the upload\n",
              " * process.\n",
              " * @param {string} inputId Element ID of the input file picker element.\n",
              " * @param {string} outputId Element ID of the output display.\n",
              " * @return {!Iterable<!Object>} Iterable of next steps.\n",
              " */\n",
              "function* uploadFilesStep(inputId, outputId) {\n",
              "  const inputElement = document.getElementById(inputId);\n",
              "  inputElement.disabled = false;\n",
              "\n",
              "  const outputElement = document.getElementById(outputId);\n",
              "  outputElement.innerHTML = '';\n",
              "\n",
              "  const pickedPromise = new Promise((resolve) => {\n",
              "    inputElement.addEventListener('change', (e) => {\n",
              "      resolve(e.target.files);\n",
              "    });\n",
              "  });\n",
              "\n",
              "  const cancel = document.createElement('button');\n",
              "  inputElement.parentElement.appendChild(cancel);\n",
              "  cancel.textContent = 'Cancel upload';\n",
              "  const cancelPromise = new Promise((resolve) => {\n",
              "    cancel.onclick = () => {\n",
              "      resolve(null);\n",
              "    };\n",
              "  });\n",
              "\n",
              "  // Wait for the user to pick the files.\n",
              "  const files = yield {\n",
              "    promise: Promise.race([pickedPromise, cancelPromise]),\n",
              "    response: {\n",
              "      action: 'starting',\n",
              "    }\n",
              "  };\n",
              "\n",
              "  cancel.remove();\n",
              "\n",
              "  // Disable the input element since further picks are not allowed.\n",
              "  inputElement.disabled = true;\n",
              "\n",
              "  if (!files) {\n",
              "    return {\n",
              "      response: {\n",
              "        action: 'complete',\n",
              "      }\n",
              "    };\n",
              "  }\n",
              "\n",
              "  for (const file of files) {\n",
              "    const li = document.createElement('li');\n",
              "    li.append(span(file.name, {fontWeight: 'bold'}));\n",
              "    li.append(span(\n",
              "        `(${file.type || 'n/a'}) - ${file.size} bytes, ` +\n",
              "        `last modified: ${\n",
              "            file.lastModifiedDate ? file.lastModifiedDate.toLocaleDateString() :\n",
              "                                    'n/a'} - `));\n",
              "    const percent = span('0% done');\n",
              "    li.appendChild(percent);\n",
              "\n",
              "    outputElement.appendChild(li);\n",
              "\n",
              "    const fileDataPromise = new Promise((resolve) => {\n",
              "      const reader = new FileReader();\n",
              "      reader.onload = (e) => {\n",
              "        resolve(e.target.result);\n",
              "      };\n",
              "      reader.readAsArrayBuffer(file);\n",
              "    });\n",
              "    // Wait for the data to be ready.\n",
              "    let fileData = yield {\n",
              "      promise: fileDataPromise,\n",
              "      response: {\n",
              "        action: 'continue',\n",
              "      }\n",
              "    };\n",
              "\n",
              "    // Use a chunked sending to avoid message size limits. See b/62115660.\n",
              "    let position = 0;\n",
              "    do {\n",
              "      const length = Math.min(fileData.byteLength - position, MAX_PAYLOAD_SIZE);\n",
              "      const chunk = new Uint8Array(fileData, position, length);\n",
              "      position += length;\n",
              "\n",
              "      const base64 = btoa(String.fromCharCode.apply(null, chunk));\n",
              "      yield {\n",
              "        response: {\n",
              "          action: 'append',\n",
              "          file: file.name,\n",
              "          data: base64,\n",
              "        },\n",
              "      };\n",
              "\n",
              "      let percentDone = fileData.byteLength === 0 ?\n",
              "          100 :\n",
              "          Math.round((position / fileData.byteLength) * 100);\n",
              "      percent.textContent = `${percentDone}% done`;\n",
              "\n",
              "    } while (position < fileData.byteLength);\n",
              "  }\n",
              "\n",
              "  // All done.\n",
              "  yield {\n",
              "    response: {\n",
              "      action: 'complete',\n",
              "    }\n",
              "  };\n",
              "}\n",
              "\n",
              "scope.google = scope.google || {};\n",
              "scope.google.colab = scope.google.colab || {};\n",
              "scope.google.colab._files = {\n",
              "  _uploadFiles,\n",
              "  _uploadFilesContinue,\n",
              "};\n",
              "})(self);\n",
              "</script> "
            ]
          },
          "metadata": {}
        },
        {
          "output_type": "stream",
          "name": "stdout",
          "text": [
            "Saving tabela_dados_ecommerce.csv to tabela_dados_ecommerce.csv\n"
          ]
        }
      ]
    },
    {
      "cell_type": "code",
      "source": [
        "df = pd.read_csv('tabela_dados_ecommerce.csv') "
      ],
      "metadata": {
        "colab": {
          "base_uri": "https://localhost:8080/"
        },
        "id": "a5e9uJ8s23w2",
        "outputId": "d8f3dc02-9ca7-4025-b291-1f23385cf53a"
      },
      "execution_count": null,
      "outputs": [
        {
          "output_type": "stream",
          "name": "stderr",
          "text": [
            "/usr/local/lib/python3.7/dist-packages/IPython/core/interactiveshell.py:3326: DtypeWarning: Columns (0,1,14) have mixed types.Specify dtype option on import or set low_memory=False.\n",
            "  exec(code_obj, self.user_global_ns, self.user_ns)\n"
          ]
        }
      ]
    },
    {
      "cell_type": "markdown",
      "source": [
        "# Analisando as características da tabela."
      ],
      "metadata": {
        "id": "9PaKTMzf9qGK"
      }
    },
    {
      "cell_type": "code",
      "source": [
        "df.info()"
      ],
      "metadata": {
        "colab": {
          "base_uri": "https://localhost:8080/"
        },
        "id": "Gyc0Iuu_238V",
        "outputId": "8fee1293-7801-4821-f697-541c02889d73"
      },
      "execution_count": null,
      "outputs": [
        {
          "output_type": "stream",
          "name": "stdout",
          "text": [
            "<class 'pandas.core.frame.DataFrame'>\n",
            "RangeIndex: 94892 entries, 0 to 94891\n",
            "Data columns (total 39 columns):\n",
            " #   Column                     Non-Null Count  Dtype  \n",
            "---  ------                     --------------  -----  \n",
            " 0   cod                        94892 non-null  object \n",
            " 1   fullvisitorid              94892 non-null  object \n",
            " 2   date                       94891 non-null  object \n",
            " 3   channelgrouping            94891 non-null  object \n",
            " 4   sessions                   94891 non-null  float64\n",
            " 5   hits_today                 94891 non-null  float64\n",
            " 6   pageviews_today            94891 non-null  float64\n",
            " 7   timeonsite_today           94891 non-null  float64\n",
            " 8   bounces_today              94891 non-null  float64\n",
            " 9   newvisits_today            94891 non-null  float64\n",
            " 10  campaign_today             94891 non-null  object \n",
            " 11  medium_today               94891 non-null  object \n",
            " 12  keyword_today              47779 non-null  object \n",
            " 13  adcontent_today            2057 non-null   object \n",
            " 14  ismobile                   94891 non-null  object \n",
            " 15  devicecategory             94891 non-null  object \n",
            " 16  continent                  94803 non-null  object \n",
            " 17  subcontinent               94803 non-null  object \n",
            " 18  country                    94803 non-null  object \n",
            " 19  metro                      27099 non-null  object \n",
            " 20  city                       40732 non-null  object \n",
            " 21  visits_st                  94891 non-null  float64\n",
            " 22  hits_st                    94891 non-null  float64\n",
            " 23  pageviews_st               94891 non-null  float64\n",
            " 24  timeonsite_st              94891 non-null  float64\n",
            " 25  bounces_st                 94891 non-null  float64\n",
            " 26  transactions_st            94891 non-null  float64\n",
            " 27  transactionrevenue_st      94891 non-null  float64\n",
            " 28  visits_lt                  94891 non-null  float64\n",
            " 29  hits_lt                    94891 non-null  float64\n",
            " 30  pageviews_lt               94891 non-null  float64\n",
            " 31  timeonsite_lt              94891 non-null  float64\n",
            " 32  bounces_lt                 94891 non-null  float64\n",
            " 33  transactions_lt            94891 non-null  float64\n",
            " 34  transactionrevenue_lt      94891 non-null  float64\n",
            " 35  transactions_target        94891 non-null  float64\n",
            " 36  transactionrevenue_target  94891 non-null  float64\n",
            " 37  operatingsystem            94891 non-null  object \n",
            " 38  source_today               94891 non-null  object \n",
            "dtypes: float64(22), object(17)\n",
            "memory usage: 28.2+ MB\n"
          ]
        }
      ]
    },
    {
      "cell_type": "code",
      "source": [
        "display(df)"
      ],
      "metadata": {
        "colab": {
          "base_uri": "https://localhost:8080/",
          "height": 661
        },
        "id": "dPTRo3br24Gs",
        "outputId": "4ddf1024-fedd-4e65-db05-f809b0041b0c"
      },
      "execution_count": null,
      "outputs": [
        {
          "output_type": "display_data",
          "data": {
            "text/plain": [
              "          cod        fullvisitorid        date channelgrouping  sessions  \\\n",
              "0         414  1252191219514313887  2017-04-25  Organic Search       1.0   \n",
              "1         415   891125204708749564  2017-04-25  Organic Search       1.0   \n",
              "2         416  5964009803422820623  2017-04-25  Organic Search       1.0   \n",
              "3         417  8835679077262961520  2017-04-25          Social       1.0   \n",
              "4         418  9094560543523674756  2017-04-25  Organic Search       1.0   \n",
              "...       ...                  ...         ...             ...       ...   \n",
              "94887  124895  7912737243863069491  2017-05-19          Social       1.0   \n",
              "94888  124896  8239950188993198154  2017-05-19          Direct       1.0   \n",
              "94889  124897  2076251979479347353  2017-05-19        Referral       1.0   \n",
              "94890  124898  1103632435578717576  2017-05-19  Organic Search       1.0   \n",
              "94891  124899  5748925835077320932  2017-05-19  Organic Search       1.0   \n",
              "\n",
              "       hits_today  pageviews_today  timeonsite_today  bounces_today  \\\n",
              "0             6.0              5.0             292.0            0.0   \n",
              "1            18.0              9.0             113.0            0.0   \n",
              "2             4.0              4.0             118.0            0.0   \n",
              "3             5.0              5.0             261.0            0.0   \n",
              "4             6.0              6.0             133.0            0.0   \n",
              "...           ...              ...               ...            ...   \n",
              "94887         3.0              3.0              34.0            0.0   \n",
              "94888         3.0              3.0              62.0            0.0   \n",
              "94889         4.0              4.0             320.0            0.0   \n",
              "94890         6.0              6.0              67.0            0.0   \n",
              "94891         3.0              3.0              20.0            0.0   \n",
              "\n",
              "       newvisits_today  ... hits_lt pageviews_lt timeonsite_lt bounces_lt  \\\n",
              "0                  1.0  ...     0.0          0.0           0.0        0.0   \n",
              "1                  1.0  ...     0.0          0.0           0.0        0.0   \n",
              "2                  1.0  ...     0.0          0.0           0.0        0.0   \n",
              "3                  1.0  ...     0.0          0.0           0.0        0.0   \n",
              "4                  1.0  ...     0.0          0.0           0.0        0.0   \n",
              "...                ...  ...     ...          ...           ...        ...   \n",
              "94887              1.0  ...     0.0          0.0           0.0        0.0   \n",
              "94888              1.0  ...     0.0          0.0           0.0        0.0   \n",
              "94889              0.0  ...     6.0          6.0         925.0        0.0   \n",
              "94890              1.0  ...     0.0          0.0           0.0        0.0   \n",
              "94891              1.0  ...     0.0          0.0           0.0        0.0   \n",
              "\n",
              "      transactions_lt transactionrevenue_lt transactions_target  \\\n",
              "0                 0.0                   0.0                 0.0   \n",
              "1                 0.0                   0.0                 0.0   \n",
              "2                 0.0                   0.0                 0.0   \n",
              "3                 0.0                   0.0                 0.0   \n",
              "4                 0.0                   0.0                 0.0   \n",
              "...               ...                   ...                 ...   \n",
              "94887             0.0                   0.0                 0.0   \n",
              "94888             0.0                   0.0                 0.0   \n",
              "94889             0.0                   0.0                 0.0   \n",
              "94890             0.0                   0.0                 0.0   \n",
              "94891             0.0                   0.0                 0.0   \n",
              "\n",
              "      transactionrevenue_target operatingsystem source_today  \n",
              "0                           0.0          b'iOS'    b'google'  \n",
              "1                           0.0      b'Windows'    b'google'  \n",
              "2                           0.0      b'Windows'    b'google'  \n",
              "3                           0.0      b'Android'   b'youtube'  \n",
              "4                           0.0      b'Windows'    b'others'  \n",
              "...                         ...             ...          ...  \n",
              "94887                       0.0    b'Macintosh'   b'youtube'  \n",
              "94888                       0.0    b'Macintosh'    b'direct'  \n",
              "94889                       0.0    b'Macintosh'    b'direct'  \n",
              "94890                       0.0    b'Macintosh'    b'google'  \n",
              "94891                       0.0          b'iOS'    b'google'  \n",
              "\n",
              "[94892 rows x 39 columns]"
            ],
            "text/html": [
              "\n",
              "  <div id=\"df-b6cf2dab-7f29-41d1-ba09-2a4fef54c0cb\">\n",
              "    <div class=\"colab-df-container\">\n",
              "      <div>\n",
              "<style scoped>\n",
              "    .dataframe tbody tr th:only-of-type {\n",
              "        vertical-align: middle;\n",
              "    }\n",
              "\n",
              "    .dataframe tbody tr th {\n",
              "        vertical-align: top;\n",
              "    }\n",
              "\n",
              "    .dataframe thead th {\n",
              "        text-align: right;\n",
              "    }\n",
              "</style>\n",
              "<table border=\"1\" class=\"dataframe\">\n",
              "  <thead>\n",
              "    <tr style=\"text-align: right;\">\n",
              "      <th></th>\n",
              "      <th>cod</th>\n",
              "      <th>fullvisitorid</th>\n",
              "      <th>date</th>\n",
              "      <th>channelgrouping</th>\n",
              "      <th>sessions</th>\n",
              "      <th>hits_today</th>\n",
              "      <th>pageviews_today</th>\n",
              "      <th>timeonsite_today</th>\n",
              "      <th>bounces_today</th>\n",
              "      <th>newvisits_today</th>\n",
              "      <th>...</th>\n",
              "      <th>hits_lt</th>\n",
              "      <th>pageviews_lt</th>\n",
              "      <th>timeonsite_lt</th>\n",
              "      <th>bounces_lt</th>\n",
              "      <th>transactions_lt</th>\n",
              "      <th>transactionrevenue_lt</th>\n",
              "      <th>transactions_target</th>\n",
              "      <th>transactionrevenue_target</th>\n",
              "      <th>operatingsystem</th>\n",
              "      <th>source_today</th>\n",
              "    </tr>\n",
              "  </thead>\n",
              "  <tbody>\n",
              "    <tr>\n",
              "      <th>0</th>\n",
              "      <td>414</td>\n",
              "      <td>1252191219514313887</td>\n",
              "      <td>2017-04-25</td>\n",
              "      <td>Organic Search</td>\n",
              "      <td>1.0</td>\n",
              "      <td>6.0</td>\n",
              "      <td>5.0</td>\n",
              "      <td>292.0</td>\n",
              "      <td>0.0</td>\n",
              "      <td>1.0</td>\n",
              "      <td>...</td>\n",
              "      <td>0.0</td>\n",
              "      <td>0.0</td>\n",
              "      <td>0.0</td>\n",
              "      <td>0.0</td>\n",
              "      <td>0.0</td>\n",
              "      <td>0.0</td>\n",
              "      <td>0.0</td>\n",
              "      <td>0.0</td>\n",
              "      <td>b'iOS'</td>\n",
              "      <td>b'google'</td>\n",
              "    </tr>\n",
              "    <tr>\n",
              "      <th>1</th>\n",
              "      <td>415</td>\n",
              "      <td>891125204708749564</td>\n",
              "      <td>2017-04-25</td>\n",
              "      <td>Organic Search</td>\n",
              "      <td>1.0</td>\n",
              "      <td>18.0</td>\n",
              "      <td>9.0</td>\n",
              "      <td>113.0</td>\n",
              "      <td>0.0</td>\n",
              "      <td>1.0</td>\n",
              "      <td>...</td>\n",
              "      <td>0.0</td>\n",
              "      <td>0.0</td>\n",
              "      <td>0.0</td>\n",
              "      <td>0.0</td>\n",
              "      <td>0.0</td>\n",
              "      <td>0.0</td>\n",
              "      <td>0.0</td>\n",
              "      <td>0.0</td>\n",
              "      <td>b'Windows'</td>\n",
              "      <td>b'google'</td>\n",
              "    </tr>\n",
              "    <tr>\n",
              "      <th>2</th>\n",
              "      <td>416</td>\n",
              "      <td>5964009803422820623</td>\n",
              "      <td>2017-04-25</td>\n",
              "      <td>Organic Search</td>\n",
              "      <td>1.0</td>\n",
              "      <td>4.0</td>\n",
              "      <td>4.0</td>\n",
              "      <td>118.0</td>\n",
              "      <td>0.0</td>\n",
              "      <td>1.0</td>\n",
              "      <td>...</td>\n",
              "      <td>0.0</td>\n",
              "      <td>0.0</td>\n",
              "      <td>0.0</td>\n",
              "      <td>0.0</td>\n",
              "      <td>0.0</td>\n",
              "      <td>0.0</td>\n",
              "      <td>0.0</td>\n",
              "      <td>0.0</td>\n",
              "      <td>b'Windows'</td>\n",
              "      <td>b'google'</td>\n",
              "    </tr>\n",
              "    <tr>\n",
              "      <th>3</th>\n",
              "      <td>417</td>\n",
              "      <td>8835679077262961520</td>\n",
              "      <td>2017-04-25</td>\n",
              "      <td>Social</td>\n",
              "      <td>1.0</td>\n",
              "      <td>5.0</td>\n",
              "      <td>5.0</td>\n",
              "      <td>261.0</td>\n",
              "      <td>0.0</td>\n",
              "      <td>1.0</td>\n",
              "      <td>...</td>\n",
              "      <td>0.0</td>\n",
              "      <td>0.0</td>\n",
              "      <td>0.0</td>\n",
              "      <td>0.0</td>\n",
              "      <td>0.0</td>\n",
              "      <td>0.0</td>\n",
              "      <td>0.0</td>\n",
              "      <td>0.0</td>\n",
              "      <td>b'Android'</td>\n",
              "      <td>b'youtube'</td>\n",
              "    </tr>\n",
              "    <tr>\n",
              "      <th>4</th>\n",
              "      <td>418</td>\n",
              "      <td>9094560543523674756</td>\n",
              "      <td>2017-04-25</td>\n",
              "      <td>Organic Search</td>\n",
              "      <td>1.0</td>\n",
              "      <td>6.0</td>\n",
              "      <td>6.0</td>\n",
              "      <td>133.0</td>\n",
              "      <td>0.0</td>\n",
              "      <td>1.0</td>\n",
              "      <td>...</td>\n",
              "      <td>0.0</td>\n",
              "      <td>0.0</td>\n",
              "      <td>0.0</td>\n",
              "      <td>0.0</td>\n",
              "      <td>0.0</td>\n",
              "      <td>0.0</td>\n",
              "      <td>0.0</td>\n",
              "      <td>0.0</td>\n",
              "      <td>b'Windows'</td>\n",
              "      <td>b'others'</td>\n",
              "    </tr>\n",
              "    <tr>\n",
              "      <th>...</th>\n",
              "      <td>...</td>\n",
              "      <td>...</td>\n",
              "      <td>...</td>\n",
              "      <td>...</td>\n",
              "      <td>...</td>\n",
              "      <td>...</td>\n",
              "      <td>...</td>\n",
              "      <td>...</td>\n",
              "      <td>...</td>\n",
              "      <td>...</td>\n",
              "      <td>...</td>\n",
              "      <td>...</td>\n",
              "      <td>...</td>\n",
              "      <td>...</td>\n",
              "      <td>...</td>\n",
              "      <td>...</td>\n",
              "      <td>...</td>\n",
              "      <td>...</td>\n",
              "      <td>...</td>\n",
              "      <td>...</td>\n",
              "      <td>...</td>\n",
              "    </tr>\n",
              "    <tr>\n",
              "      <th>94887</th>\n",
              "      <td>124895</td>\n",
              "      <td>7912737243863069491</td>\n",
              "      <td>2017-05-19</td>\n",
              "      <td>Social</td>\n",
              "      <td>1.0</td>\n",
              "      <td>3.0</td>\n",
              "      <td>3.0</td>\n",
              "      <td>34.0</td>\n",
              "      <td>0.0</td>\n",
              "      <td>1.0</td>\n",
              "      <td>...</td>\n",
              "      <td>0.0</td>\n",
              "      <td>0.0</td>\n",
              "      <td>0.0</td>\n",
              "      <td>0.0</td>\n",
              "      <td>0.0</td>\n",
              "      <td>0.0</td>\n",
              "      <td>0.0</td>\n",
              "      <td>0.0</td>\n",
              "      <td>b'Macintosh'</td>\n",
              "      <td>b'youtube'</td>\n",
              "    </tr>\n",
              "    <tr>\n",
              "      <th>94888</th>\n",
              "      <td>124896</td>\n",
              "      <td>8239950188993198154</td>\n",
              "      <td>2017-05-19</td>\n",
              "      <td>Direct</td>\n",
              "      <td>1.0</td>\n",
              "      <td>3.0</td>\n",
              "      <td>3.0</td>\n",
              "      <td>62.0</td>\n",
              "      <td>0.0</td>\n",
              "      <td>1.0</td>\n",
              "      <td>...</td>\n",
              "      <td>0.0</td>\n",
              "      <td>0.0</td>\n",
              "      <td>0.0</td>\n",
              "      <td>0.0</td>\n",
              "      <td>0.0</td>\n",
              "      <td>0.0</td>\n",
              "      <td>0.0</td>\n",
              "      <td>0.0</td>\n",
              "      <td>b'Macintosh'</td>\n",
              "      <td>b'direct'</td>\n",
              "    </tr>\n",
              "    <tr>\n",
              "      <th>94889</th>\n",
              "      <td>124897</td>\n",
              "      <td>2076251979479347353</td>\n",
              "      <td>2017-05-19</td>\n",
              "      <td>Referral</td>\n",
              "      <td>1.0</td>\n",
              "      <td>4.0</td>\n",
              "      <td>4.0</td>\n",
              "      <td>320.0</td>\n",
              "      <td>0.0</td>\n",
              "      <td>0.0</td>\n",
              "      <td>...</td>\n",
              "      <td>6.0</td>\n",
              "      <td>6.0</td>\n",
              "      <td>925.0</td>\n",
              "      <td>0.0</td>\n",
              "      <td>0.0</td>\n",
              "      <td>0.0</td>\n",
              "      <td>0.0</td>\n",
              "      <td>0.0</td>\n",
              "      <td>b'Macintosh'</td>\n",
              "      <td>b'direct'</td>\n",
              "    </tr>\n",
              "    <tr>\n",
              "      <th>94890</th>\n",
              "      <td>124898</td>\n",
              "      <td>1103632435578717576</td>\n",
              "      <td>2017-05-19</td>\n",
              "      <td>Organic Search</td>\n",
              "      <td>1.0</td>\n",
              "      <td>6.0</td>\n",
              "      <td>6.0</td>\n",
              "      <td>67.0</td>\n",
              "      <td>0.0</td>\n",
              "      <td>1.0</td>\n",
              "      <td>...</td>\n",
              "      <td>0.0</td>\n",
              "      <td>0.0</td>\n",
              "      <td>0.0</td>\n",
              "      <td>0.0</td>\n",
              "      <td>0.0</td>\n",
              "      <td>0.0</td>\n",
              "      <td>0.0</td>\n",
              "      <td>0.0</td>\n",
              "      <td>b'Macintosh'</td>\n",
              "      <td>b'google'</td>\n",
              "    </tr>\n",
              "    <tr>\n",
              "      <th>94891</th>\n",
              "      <td>124899</td>\n",
              "      <td>5748925835077320932</td>\n",
              "      <td>2017-05-19</td>\n",
              "      <td>Organic Search</td>\n",
              "      <td>1.0</td>\n",
              "      <td>3.0</td>\n",
              "      <td>3.0</td>\n",
              "      <td>20.0</td>\n",
              "      <td>0.0</td>\n",
              "      <td>1.0</td>\n",
              "      <td>...</td>\n",
              "      <td>0.0</td>\n",
              "      <td>0.0</td>\n",
              "      <td>0.0</td>\n",
              "      <td>0.0</td>\n",
              "      <td>0.0</td>\n",
              "      <td>0.0</td>\n",
              "      <td>0.0</td>\n",
              "      <td>0.0</td>\n",
              "      <td>b'iOS'</td>\n",
              "      <td>b'google'</td>\n",
              "    </tr>\n",
              "  </tbody>\n",
              "</table>\n",
              "<p>94892 rows × 39 columns</p>\n",
              "</div>\n",
              "      <button class=\"colab-df-convert\" onclick=\"convertToInteractive('df-b6cf2dab-7f29-41d1-ba09-2a4fef54c0cb')\"\n",
              "              title=\"Convert this dataframe to an interactive table.\"\n",
              "              style=\"display:none;\">\n",
              "        \n",
              "  <svg xmlns=\"http://www.w3.org/2000/svg\" height=\"24px\"viewBox=\"0 0 24 24\"\n",
              "       width=\"24px\">\n",
              "    <path d=\"M0 0h24v24H0V0z\" fill=\"none\"/>\n",
              "    <path d=\"M18.56 5.44l.94 2.06.94-2.06 2.06-.94-2.06-.94-.94-2.06-.94 2.06-2.06.94zm-11 1L8.5 8.5l.94-2.06 2.06-.94-2.06-.94L8.5 2.5l-.94 2.06-2.06.94zm10 10l.94 2.06.94-2.06 2.06-.94-2.06-.94-.94-2.06-.94 2.06-2.06.94z\"/><path d=\"M17.41 7.96l-1.37-1.37c-.4-.4-.92-.59-1.43-.59-.52 0-1.04.2-1.43.59L10.3 9.45l-7.72 7.72c-.78.78-.78 2.05 0 2.83L4 21.41c.39.39.9.59 1.41.59.51 0 1.02-.2 1.41-.59l7.78-7.78 2.81-2.81c.8-.78.8-2.07 0-2.86zM5.41 20L4 18.59l7.72-7.72 1.47 1.35L5.41 20z\"/>\n",
              "  </svg>\n",
              "      </button>\n",
              "      \n",
              "  <style>\n",
              "    .colab-df-container {\n",
              "      display:flex;\n",
              "      flex-wrap:wrap;\n",
              "      gap: 12px;\n",
              "    }\n",
              "\n",
              "    .colab-df-convert {\n",
              "      background-color: #E8F0FE;\n",
              "      border: none;\n",
              "      border-radius: 50%;\n",
              "      cursor: pointer;\n",
              "      display: none;\n",
              "      fill: #1967D2;\n",
              "      height: 32px;\n",
              "      padding: 0 0 0 0;\n",
              "      width: 32px;\n",
              "    }\n",
              "\n",
              "    .colab-df-convert:hover {\n",
              "      background-color: #E2EBFA;\n",
              "      box-shadow: 0px 1px 2px rgba(60, 64, 67, 0.3), 0px 1px 3px 1px rgba(60, 64, 67, 0.15);\n",
              "      fill: #174EA6;\n",
              "    }\n",
              "\n",
              "    [theme=dark] .colab-df-convert {\n",
              "      background-color: #3B4455;\n",
              "      fill: #D2E3FC;\n",
              "    }\n",
              "\n",
              "    [theme=dark] .colab-df-convert:hover {\n",
              "      background-color: #434B5C;\n",
              "      box-shadow: 0px 1px 3px 1px rgba(0, 0, 0, 0.15);\n",
              "      filter: drop-shadow(0px 1px 2px rgba(0, 0, 0, 0.3));\n",
              "      fill: #FFFFFF;\n",
              "    }\n",
              "  </style>\n",
              "\n",
              "      <script>\n",
              "        const buttonEl =\n",
              "          document.querySelector('#df-b6cf2dab-7f29-41d1-ba09-2a4fef54c0cb button.colab-df-convert');\n",
              "        buttonEl.style.display =\n",
              "          google.colab.kernel.accessAllowed ? 'block' : 'none';\n",
              "\n",
              "        async function convertToInteractive(key) {\n",
              "          const element = document.querySelector('#df-b6cf2dab-7f29-41d1-ba09-2a4fef54c0cb');\n",
              "          const dataTable =\n",
              "            await google.colab.kernel.invokeFunction('convertToInteractive',\n",
              "                                                     [key], {});\n",
              "          if (!dataTable) return;\n",
              "\n",
              "          const docLinkHtml = 'Like what you see? Visit the ' +\n",
              "            '<a target=\"_blank\" href=https://colab.research.google.com/notebooks/data_table.ipynb>data table notebook</a>'\n",
              "            + ' to learn more about interactive tables.';\n",
              "          element.innerHTML = '';\n",
              "          dataTable['output_type'] = 'display_data';\n",
              "          await google.colab.output.renderOutput(dataTable, element);\n",
              "          const docLink = document.createElement('div');\n",
              "          docLink.innerHTML = docLinkHtml;\n",
              "          element.appendChild(docLink);\n",
              "        }\n",
              "      </script>\n",
              "    </div>\n",
              "  </div>\n",
              "  "
            ]
          },
          "metadata": {}
        }
      ]
    },
    {
      "cell_type": "markdown",
      "source": [
        "# Questões a serem respondidas ao Gerente da Área de Marketing da Empresa:\n",
        "# 1. De que maneira (busca orgânica, por meio de anúncios, por redes sociais, etc.) os clientes acessam mais o portal para realizarem as suas compras? \n",
        "# 2. De que canais os clientes estão mais aceesando o portal (google, portal do E-commerce, redes sociais, etc.) para realizarem suas compras?\n",
        "# 3. Qual o dispositivo (laptop, celeular ou tablet) é mais usado pelo cliente para acessar o portal?\n",
        "# 4. Por quanto tempo (em média) um visitante permanece no portal, por dia do mês?\n",
        "# 5. Qual a principal fonte de acesso ao portal para se efetuar uma compra?\n",
        "# 6. Qual a média de faturamento por dia e mês?\n",
        "# 7. Quais os países que mais realizam compras no portal do E-Commerce?"
      ],
      "metadata": {
        "id": "hXNQ-Pre9xBN"
      }
    },
    {
      "cell_type": "markdown",
      "source": [
        "# 1a questão: \n",
        "# De que maneira (busca orgânica, meio de anúncios, por redes sociais, etc.) os clientes acessam mais o portal para realizarem as suas compras? "
      ],
      "metadata": {
        "id": "_zUbmCGX-HB-"
      }
    },
    {
      "cell_type": "code",
      "source": [
        "x1=df['channelgrouping'].value_counts().index\n",
        "y1=df['channelgrouping'].value_counts()\n",
        "fig = plt.figure(figsize =(10, 5)) \n",
        "paleta_de_cores=['blue','red','yellow','black','green','pink','orange','salmon']\n",
        "plt.bar(x1,y1,color=paleta_de_cores)\n",
        "plt.yticks([0,10000,20000,30000,40000,50000])\n",
        "plt.grid()\n",
        "plt.show()"
      ],
      "metadata": {
        "colab": {
          "base_uri": "https://localhost:8080/",
          "height": 324
        },
        "id": "zAhIgK9Q24Qd",
        "outputId": "7badf3f7-ee7f-415f-9a78-ce23c0c6fc7a"
      },
      "execution_count": null,
      "outputs": [
        {
          "output_type": "display_data",
          "data": {
            "text/plain": [
              "<Figure size 720x360 with 1 Axes>"
            ],
            "image/png": "[encoded data removed]"
          },
          "metadata": {
            "needs_background": "light"
          }
        }
      ]
    },
    {
      "cell_type": "code",
      "source": [
        "fig = plt.figure(figsize =(10, 10)) \n",
        "plt.pie(y1,labels=x1,autopct=\"%0.1f%%\")\n",
        "plt.show()"
      ],
      "metadata": {
        "colab": {
          "base_uri": "https://localhost:8080/",
          "height": 575
        },
        "id": "h4NSiiuyAhmj",
        "outputId": "32478f60-5310-4f1b-e355-a4bec804fa65"
      },
      "execution_count": null,
      "outputs": [
        {
          "output_type": "display_data",
          "data": {
            "text/plain": [
              "<Figure size 720x720 with 1 Axes>"
            ],
            "image/png": "[encoded data removed]"
          },
          "metadata": {}
        }
      ]
    },
    {
      "cell_type": "markdown",
      "source": [
        "# 2a questão:\n",
        "# De que canais os clientes estão mais acessando o portal (google, portal do E-commerce, redes sociais, etc.) para realizarem suas compras?"
      ],
      "metadata": {
        "id": "PMWD-Jeo_y8D"
      }
    },
    {
      "cell_type": "code",
      "source": [
        "x2=df['source_today'].value_counts().index\n",
        "y2=df['source_today'].value_counts()\n",
        "barra_de_cores=['blue','red','yellow','black','green','pink']\n",
        "plt.figure(figsize = (10,5))\n",
        "plt.bar(x2,y2,color=paleta_de_cores)\n",
        "plt.grid()\n",
        "plt.show()"
      ],
      "metadata": {
        "colab": {
          "base_uri": "https://localhost:8080/",
          "height": 320
        },
        "id": "3UT2Aamr24bi",
        "outputId": "76395918-af69-4571-c526-da63d891cf4e"
      },
      "execution_count": null,
      "outputs": [
        {
          "output_type": "display_data",
          "data": {
            "text/plain": [
              "<Figure size 720x360 with 1 Axes>"
            ],
            "image/png": "[encoded data removed]"
          },
          "metadata": {
            "needs_background": "light"
          }
        }
      ]
    },
    {
      "cell_type": "code",
      "source": [
        "fig = plt.figure(figsize =(10, 10)) \n",
        "plt.pie(y2,labels=x2,autopct=\"%0.1f%%\")\n",
        "plt.show()"
      ],
      "metadata": {
        "colab": {
          "base_uri": "https://localhost:8080/",
          "height": 575
        },
        "id": "lkFFUBqq24mL",
        "outputId": "7b67de04-d5e4-4995-cf57-38b8ee5f8a3b"
      },
      "execution_count": null,
      "outputs": [
        {
          "output_type": "display_data",
          "data": {
            "text/plain": [
              "<Figure size 720x720 with 1 Axes>"
            ],
            "image/png": "[encoded data removed]"
          },
          "metadata": {}
        }
      ]
    },
    {
      "cell_type": "markdown",
      "source": [
        "# 3a Questão:\n",
        "# Qual o dispositivo (laptop, celeular ou tablet) é mais usado pelo cliente para acessar o portal?"
      ],
      "metadata": {
        "id": "BIiZKEcGEyYI"
      }
    },
    {
      "cell_type": "code",
      "source": [
        "x3=df['devicecategory'].value_counts().index\n",
        "y3=df['devicecategory'].value_counts()\n",
        "fig = plt.figure(figsize =(10, 10)) \n",
        "labels = x3\n",
        "fatias = y3\n",
        "explode = (0.05,0,0)  \n",
        "plt.pie(fatias, labels=labels, explode=explode, autopct='%1.0f%%')\n",
        "plt.show()"
      ],
      "metadata": {
        "colab": {
          "base_uri": "https://localhost:8080/",
          "height": 575
        },
        "id": "bOelm11I24vD",
        "outputId": "fc124df7-488a-441b-d4f3-34b2d1bc230f"
      },
      "execution_count": null,
      "outputs": [
        {
          "output_type": "display_data",
          "data": {
            "text/plain": [
              "<Figure size 720x720 with 1 Axes>"
            ],
            "image/png": "[encoded data removed]"
          },
          "metadata": {}
        }
      ]
    },
    {
      "cell_type": "markdown",
      "source": [
        "# Questão 04.\n",
        "# Por quanto tempo (em média) um visitante permanece (realizando pesquisas) no portal por dia do mês?"
      ],
      "metadata": {
        "id": "_eKurBJMMWpH"
      }
    },
    {
      "cell_type": "code",
      "source": [
        "df['date']=pd.to_datetime(df['date'])\n",
        "df['dia'] = df['date'].dt.day"
      ],
      "metadata": {
        "id": "EClQFa6lM8K7"
      },
      "execution_count": null,
      "outputs": []
    },
    {
      "cell_type": "code",
      "source": [
        "df4=df.groupby(df['dia']).agg({'timeonsite_st':'mean'}).reset_index()\n",
        "df4.head()"
      ],
      "metadata": {
        "colab": {
          "base_uri": "https://localhost:8080/",
          "height": 206
        },
        "id": "3pWWGiXK75qZ",
        "outputId": "0e6eba47-fee8-4875-d66e-2491fe0dc71c"
      },
      "execution_count": null,
      "outputs": [
        {
          "output_type": "execute_result",
          "data": {
            "text/plain": [
              "   dia  timeonsite_st\n",
              "0  1.0      74.730396\n",
              "1  2.0      75.323869\n",
              "2  3.0      77.361670\n",
              "3  4.0      70.738747\n",
              "4  5.0      91.714044"
            ],
            "text/html": [
              "\n",
              "  <div id=\"df-77aa6cae-40b5-4bb3-aebb-78a15b65ea4a\">\n",
              "    <div class=\"colab-df-container\">\n",
              "      <div>\n",
              "<style scoped>\n",
              "    .dataframe tbody tr th:only-of-type {\n",
              "        vertical-align: middle;\n",
              "    }\n",
              "\n",
              "    .dataframe tbody tr th {\n",
              "        vertical-align: top;\n",
              "    }\n",
              "\n",
              "    .dataframe thead th {\n",
              "        text-align: right;\n",
              "    }\n",
              "</style>\n",
              "<table border=\"1\" class=\"dataframe\">\n",
              "  <thead>\n",
              "    <tr style=\"text-align: right;\">\n",
              "      <th></th>\n",
              "      <th>dia</th>\n",
              "      <th>timeonsite_st</th>\n",
              "    </tr>\n",
              "  </thead>\n",
              "  <tbody>\n",
              "    <tr>\n",
              "      <th>0</th>\n",
              "      <td>1.0</td>\n",
              "      <td>74.730396</td>\n",
              "    </tr>\n",
              "    <tr>\n",
              "      <th>1</th>\n",
              "      <td>2.0</td>\n",
              "      <td>75.323869</td>\n",
              "    </tr>\n",
              "    <tr>\n",
              "      <th>2</th>\n",
              "      <td>3.0</td>\n",
              "      <td>77.361670</td>\n",
              "    </tr>\n",
              "    <tr>\n",
              "      <th>3</th>\n",
              "      <td>4.0</td>\n",
              "      <td>70.738747</td>\n",
              "    </tr>\n",
              "    <tr>\n",
              "      <th>4</th>\n",
              "      <td>5.0</td>\n",
              "      <td>91.714044</td>\n",
              "    </tr>\n",
              "  </tbody>\n",
              "</table>\n",
              "</div>\n",
              "      <button class=\"colab-df-convert\" onclick=\"convertToInteractive('df-77aa6cae-40b5-4bb3-aebb-78a15b65ea4a')\"\n",
              "              title=\"Convert this dataframe to an interactive table.\"\n",
              "              style=\"display:none;\">\n",
              "        \n",
              "  <svg xmlns=\"http://www.w3.org/2000/svg\" height=\"24px\"viewBox=\"0 0 24 24\"\n",
              "       width=\"24px\">\n",
              "    <path d=\"M0 0h24v24H0V0z\" fill=\"none\"/>\n",
              "    <path d=\"M18.56 5.44l.94 2.06.94-2.06 2.06-.94-2.06-.94-.94-2.06-.94 2.06-2.06.94zm-11 1L8.5 8.5l.94-2.06 2.06-.94-2.06-.94L8.5 2.5l-.94 2.06-2.06.94zm10 10l.94 2.06.94-2.06 2.06-.94-2.06-.94-.94-2.06-.94 2.06-2.06.94z\"/><path d=\"M17.41 7.96l-1.37-1.37c-.4-.4-.92-.59-1.43-.59-.52 0-1.04.2-1.43.59L10.3 9.45l-7.72 7.72c-.78.78-.78 2.05 0 2.83L4 21.41c.39.39.9.59 1.41.59.51 0 1.02-.2 1.41-.59l7.78-7.78 2.81-2.81c.8-.78.8-2.07 0-2.86zM5.41 20L4 18.59l7.72-7.72 1.47 1.35L5.41 20z\"/>\n",
              "  </svg>\n",
              "      </button>\n",
              "      \n",
              "  <style>\n",
              "    .colab-df-container {\n",
              "      display:flex;\n",
              "      flex-wrap:wrap;\n",
              "      gap: 12px;\n",
              "    }\n",
              "\n",
              "    .colab-df-convert {\n",
              "      background-color: #E8F0FE;\n",
              "      border: none;\n",
              "      border-radius: 50%;\n",
              "      cursor: pointer;\n",
              "      display: none;\n",
              "      fill: #1967D2;\n",
              "      height: 32px;\n",
              "      padding: 0 0 0 0;\n",
              "      width: 32px;\n",
              "    }\n",
              "\n",
              "    .colab-df-convert:hover {\n",
              "      background-color: #E2EBFA;\n",
              "      box-shadow: 0px 1px 2px rgba(60, 64, 67, 0.3), 0px 1px 3px 1px rgba(60, 64, 67, 0.15);\n",
              "      fill: #174EA6;\n",
              "    }\n",
              "\n",
              "    [theme=dark] .colab-df-convert {\n",
              "      background-color: #3B4455;\n",
              "      fill: #D2E3FC;\n",
              "    }\n",
              "\n",
              "    [theme=dark] .colab-df-convert:hover {\n",
              "      background-color: #434B5C;\n",
              "      box-shadow: 0px 1px 3px 1px rgba(0, 0, 0, 0.15);\n",
              "      filter: drop-shadow(0px 1px 2px rgba(0, 0, 0, 0.3));\n",
              "      fill: #FFFFFF;\n",
              "    }\n",
              "  </style>\n",
              "\n",
              "      <script>\n",
              "        const buttonEl =\n",
              "          document.querySelector('#df-77aa6cae-40b5-4bb3-aebb-78a15b65ea4a button.colab-df-convert');\n",
              "        buttonEl.style.display =\n",
              "          google.colab.kernel.accessAllowed ? 'block' : 'none';\n",
              "\n",
              "        async function convertToInteractive(key) {\n",
              "          const element = document.querySelector('#df-77aa6cae-40b5-4bb3-aebb-78a15b65ea4a');\n",
              "          const dataTable =\n",
              "            await google.colab.kernel.invokeFunction('convertToInteractive',\n",
              "                                                     [key], {});\n",
              "          if (!dataTable) return;\n",
              "\n",
              "          const docLinkHtml = 'Like what you see? Visit the ' +\n",
              "            '<a target=\"_blank\" href=https://colab.research.google.com/notebooks/data_table.ipynb>data table notebook</a>'\n",
              "            + ' to learn more about interactive tables.';\n",
              "          element.innerHTML = '';\n",
              "          dataTable['output_type'] = 'display_data';\n",
              "          await google.colab.output.renderOutput(dataTable, element);\n",
              "          const docLink = document.createElement('div');\n",
              "          docLink.innerHTML = docLinkHtml;\n",
              "          element.appendChild(docLink);\n",
              "        }\n",
              "      </script>\n",
              "    </div>\n",
              "  </div>\n",
              "  "
            ]
          },
          "metadata": {},
          "execution_count": 27
        }
      ]
    },
    {
      "cell_type": "code",
      "source": [
        "x4=df4['dia']\n",
        "y4=df4['timeonsite_st']"
      ],
      "metadata": {
        "id": "3gEMxOA98jNx"
      },
      "execution_count": null,
      "outputs": []
    },
    {
      "cell_type": "code",
      "source": [
        "plt.figure(figsize = (20,5))\n",
        "plt.bar(x4,y4)\n",
        "plt.grid()\n",
        "plt.show()"
      ],
      "metadata": {
        "colab": {
          "base_uri": "https://localhost:8080/",
          "height": 320
        },
        "id": "rwnP4sNQ245B",
        "outputId": "b3cb249a-8ad5-482c-e702-0efa0b2ea6f9"
      },
      "execution_count": null,
      "outputs": [
        {
          "output_type": "display_data",
          "data": {
            "text/plain": [
              "<Figure size 1440x360 with 1 Axes>"
            ],
            "image/png": "[encoded data removed]"
          },
          "metadata": {
            "needs_background": "light"
          }
        }
      ]
    },
    {
      "cell_type": "code",
      "source": [
        "y44=df4['timeonsite_st'].mean()"
      ],
      "metadata": {
        "id": "ggsEe7cB25DH"
      },
      "execution_count": null,
      "outputs": []
    },
    {
      "cell_type": "code",
      "source": [
        "plt.figure(figsize = (20,10))\n",
        "plt.bar(x4,y4)\n",
        "plt.axhline(y44, xmin=0, xmax=30,color='r')\n",
        "plt.grid()\n",
        "plt.show()"
      ],
      "metadata": {
        "colab": {
          "base_uri": "https://localhost:8080/",
          "height": 592
        },
        "id": "dUWpsLxn-cEM",
        "outputId": "3d3343ec-63ca-452a-b8fa-ce7fb865d49a"
      },
      "execution_count": null,
      "outputs": [
        {
          "output_type": "display_data",
          "data": {
            "text/plain": [
              "<Figure size 1440x720 with 1 Axes>"
            ],
            "image/png": "[encoded data removed]"
          },
          "metadata": {
            "needs_background": "light"
          }
        }
      ]
    },
    {
      "cell_type": "markdown",
      "source": [
        "# Questão 05:\n",
        "#  Quais os dias que os clientes mais visitam o portal e qual o dia de maior faturamento?"
      ],
      "metadata": {
        "id": "JAecUdqZ_XXX"
      }
    },
    {
      "cell_type": "code",
      "source": [
        "df5=df.groupby(df['dia']).agg({'transactionrevenue_st':'sum'}).reset_index()"
      ],
      "metadata": {
        "id": "9eWj54kO-cZU"
      },
      "execution_count": null,
      "outputs": []
    },
    {
      "cell_type": "code",
      "source": [
        "x5=df5['dia']\n",
        "y5=df5['transactionrevenue_st']"
      ],
      "metadata": {
        "id": "-ZzCh5C8-cmM"
      },
      "execution_count": null,
      "outputs": []
    },
    {
      "cell_type": "code",
      "source": [
        "plt.figure(figsize = (20,5))\n",
        "plt.plot(x4,y4)\n",
        "plt.grid()\n",
        "plt.show()"
      ],
      "metadata": {
        "colab": {
          "base_uri": "https://localhost:8080/",
          "height": 320
        },
        "id": "g6UWCkhIAMl-",
        "outputId": "2aef1047-868c-4eab-a2dd-4b910cf67c4a"
      },
      "execution_count": null,
      "outputs": [
        {
          "output_type": "display_data",
          "data": {
            "text/plain": [
              "<Figure size 1440x360 with 1 Axes>"
            ],
            "image/png": "[encoded data removed]"
          },
          "metadata": {
            "needs_background": "light"
          }
        }
      ]
    },
    {
      "cell_type": "markdown",
      "source": [
        "#Selecionando os dias que os clientes mais realizam compras no portal E-Commerce"
      ],
      "metadata": {
        "id": "p2blqLdvAqCO"
      }
    },
    {
      "cell_type": "code",
      "source": [
        "melhores_dias=df5.sort_values('transactionrevenue_st',ascending=False).nlargest(3,'transactionrevenue_st')\n",
        "print(melhores_dias)"
      ],
      "metadata": {
        "colab": {
          "base_uri": "https://localhost:8080/"
        },
        "id": "tjvJIpgrAMzc",
        "outputId": "9112d017-92fb-43ff-8b26-ccbea53d6f55"
      },
      "execution_count": null,
      "outputs": [
        {
          "output_type": "stream",
          "name": "stdout",
          "text": [
            "     dia  transactionrevenue_st\n",
            "12  13.0           3.705576e+10\n",
            "9   10.0           3.564567e+10\n",
            "6    7.0           2.574430e+10\n"
          ]
        }
      ]
    },
    {
      "cell_type": "markdown",
      "source": [
        "# Pergunta 06.\n",
        "# Quantas visitas, em média, são realizadas pelos clientes ao portal do E-commerce, por dia, ou seja qual o valor médio de pageviews/dia?"
      ],
      "metadata": {
        "id": "09M2Q-tYBCso"
      }
    },
    {
      "cell_type": "code",
      "source": [
        "df6=df.groupby(['dia']).agg({'pageviews_st':'sum'}).reset_index()"
      ],
      "metadata": {
        "id": "TzTk_4b_AM-6"
      },
      "execution_count": null,
      "outputs": []
    },
    {
      "cell_type": "code",
      "source": [
        "plt.figure(figsize = (20,5))\n",
        "y66=df6['pageviews_st'].mean()\n",
        "plt.plot(df6['dia'],df6['pageviews_st'])\n",
        "plt.axhline(y=y66, xmin=0, xmax=30,color='r')\n",
        "plt.grid()\n",
        "plt.show()"
      ],
      "metadata": {
        "colab": {
          "base_uri": "https://localhost:8080/",
          "height": 320
        },
        "id": "0vSH11ktANKQ",
        "outputId": "2434e433-9fdf-45ac-d8da-fa98308bb555"
      },
      "execution_count": null,
      "outputs": [
        {
          "output_type": "display_data",
          "data": {
            "text/plain": [
              "<Figure size 1440x360 with 1 Axes>"
            ],
            "image/png": "[encoded data removed]"
          },
          "metadata": {
            "needs_background": "light"
          }
        }
      ]
    },
    {
      "cell_type": "markdown",
      "source": [
        "# 7a questão:\n",
        "# Quais países realizam mais compras no portal do E-Commerce?\n",
        "# Fazer o ranking de Transações por paises?"
      ],
      "metadata": {
        "id": "AsFOMsFjCthy"
      }
    },
    {
      "cell_type": "code",
      "source": [
        "df7=round(df.groupby(['country'])['transactionrevenue_st'].sum().sort_values(ascending=False).nlargest(5),1)\n",
        "display(df7)"
      ],
      "metadata": {
        "colab": {
          "base_uri": "https://localhost:8080/",
          "height": 146
        },
        "id": "43b9GZqjBakp",
        "outputId": "cc5b82e7-8a04-4ba5-8516-4927087afe95"
      },
      "execution_count": null,
      "outputs": [
        {
          "output_type": "display_data",
          "data": {
            "text/plain": [
              "country\n",
              "United States    2.384832e+11\n",
              "Canada           1.907480e+09\n",
              "Belgium          7.280500e+08\n",
              "Indonesia        6.508100e+08\n",
              "Venezuela        5.986900e+08\n",
              "Name: transactionrevenue_st, dtype: float64"
            ]
          },
          "metadata": {}
        }
      ]
    },
    {
      "cell_type": "code",
      "source": [],
      "metadata": {
        "id": "ofcJTWy1Baxt"
      },
      "execution_count": null,
      "outputs": []
    },
    {
      "cell_type": "code",
      "source": [],
      "metadata": {
        "id": "7DCtN85SBa93"
      },
      "execution_count": null,
      "outputs": []
    }
  ]
}