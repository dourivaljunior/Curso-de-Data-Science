{
  "cells": [
    {
      "cell_type": "code",
      "execution_count": null,
      "id": "8a4f22e5",
      "metadata": {
        "id": "8a4f22e5"
      },
      "outputs": [],
      "source": [
        "import pandas as pd\n",
        "import numpy as np\n",
        "from scipy import stats\n",
        "import statistics as sts\n",
        "import matplotlib.pyplot as plt"
      ]
    },
    {
      "cell_type": "markdown",
      "source": [
        "# Criando uma lista de dados para realizar cálculos estatísticos."
      ],
      "metadata": {
        "id": "RA0EiOKQOY0j"
      },
      "id": "RA0EiOKQOY0j"
    },
    {
      "cell_type": "code",
      "execution_count": null,
      "id": "bfa85c95",
      "metadata": {
        "id": "bfa85c95"
      },
      "outputs": [],
      "source": [
        "dados=[1,2,3,3,3,4,5,5,5,5,6,7,8,8,9,10]"
      ]
    },
    {
      "cell_type": "markdown",
      "source": [
        "calculando média aritmética, desvio padrão, variância, mediana e moda."
      ],
      "metadata": {
        "id": "tC6txBiTPg6u"
      },
      "id": "tC6txBiTPg6u"
    },
    {
      "cell_type": "code",
      "execution_count": null,
      "id": "1c72ca4f",
      "metadata": {
        "colab": {
          "base_uri": "https://localhost:8080/"
        },
        "id": "1c72ca4f",
        "outputId": "e9b56e90-1488-4deb-b799-06a87e8acce6"
      },
      "outputs": [
        {
          "output_type": "stream",
          "name": "stdout",
          "text": [
            "5.25\n"
          ]
        }
      ],
      "source": [
        "valor_médio=sts.mean(dados)\n",
        "print(valor_médio)"
      ]
    },
    {
      "cell_type": "code",
      "source": [
        "desvio_padrão=sts.stdev(dados)\n",
        "print(desvio_padrão)"
      ],
      "metadata": {
        "colab": {
          "base_uri": "https://localhost:8080/"
        },
        "id": "zI8tuJjhO2R7",
        "outputId": "3364c957-7617-4cae-d02e-4ff0d3989c10"
      },
      "id": "zI8tuJjhO2R7",
      "execution_count": null,
      "outputs": [
        {
          "output_type": "stream",
          "name": "stdout",
          "text": [
            "2.594866727470475\n"
          ]
        }
      ]
    },
    {
      "cell_type": "code",
      "source": [
        "variância=sts.variance(dados)\n",
        "print(variância)"
      ],
      "metadata": {
        "colab": {
          "base_uri": "https://localhost:8080/"
        },
        "id": "cjRNDfojO2gE",
        "outputId": "983fb7fd-28ba-4d82-ff23-8d7e4d6c929b"
      },
      "id": "cjRNDfojO2gE",
      "execution_count": null,
      "outputs": [
        {
          "output_type": "stream",
          "name": "stdout",
          "text": [
            "6.733333333333333\n"
          ]
        }
      ]
    },
    {
      "cell_type": "code",
      "source": [
        "mediana=sts.median(dados)\n",
        "print(mediana)"
      ],
      "metadata": {
        "colab": {
          "base_uri": "https://localhost:8080/"
        },
        "id": "ICLCOp5oO2sB",
        "outputId": "5c485e9d-a158-48ea-f85b-3d02c5be889a"
      },
      "id": "ICLCOp5oO2sB",
      "execution_count": null,
      "outputs": [
        {
          "output_type": "stream",
          "name": "stdout",
          "text": [
            "5.0\n"
          ]
        }
      ]
    },
    {
      "cell_type": "code",
      "source": [
        "moda=sts.mode(dados)\n",
        "print(moda)"
      ],
      "metadata": {
        "colab": {
          "base_uri": "https://localhost:8080/"
        },
        "id": "syoUlgUfO285",
        "outputId": "4907fedf-43ae-412a-fbc9-774a9a816683"
      },
      "id": "syoUlgUfO285",
      "execution_count": null,
      "outputs": [
        {
          "output_type": "stream",
          "name": "stdout",
          "text": [
            "5\n"
          ]
        }
      ]
    },
    {
      "cell_type": "markdown",
      "source": [
        "Gerando o histograma dos dados."
      ],
      "metadata": {
        "id": "yCJ2jC2KPnwY"
      },
      "id": "yCJ2jC2KPnwY"
    },
    {
      "cell_type": "code",
      "source": [
        "plt.hist(dados,5,rwidth=0.9)\n",
        "plt.show"
      ],
      "metadata": {
        "colab": {
          "base_uri": "https://localhost:8080/",
          "height": 283
        },
        "id": "fHZupwqVPZtj",
        "outputId": "108801e2-6ca4-43e6-fbc4-df22a708b51e"
      },
      "id": "fHZupwqVPZtj",
      "execution_count": null,
      "outputs": [
        {
          "output_type": "execute_result",
          "data": {
            "text/plain": [
              "<function matplotlib.pyplot.show(*args, **kw)>"
            ]
          },
          "metadata": {},
          "execution_count": 38
        },
        {
          "output_type": "display_data",
          "data": {
            "text/plain": [
              "<Figure size 432x288 with 1 Axes>"
            ],
            "image/png": "[encoded data removed]"
          },
          "metadata": {
            "needs_background": "light"
          }
        }
      ]
    },
    {
      "cell_type": "code",
      "source": [],
      "metadata": {
        "id": "5CDJ4AOOPZ6N"
      },
      "id": "5CDJ4AOOPZ6N",
      "execution_count": null,
      "outputs": []
    },
    {
      "cell_type": "code",
      "source": [],
      "metadata": {
        "id": "JvoX-1pVPaDx"
      },
      "id": "JvoX-1pVPaDx",
      "execution_count": null,
      "outputs": []
    },
    {
      "cell_type": "code",
      "source": [],
      "metadata": {
        "id": "evgCpZVJPaPv"
      },
      "id": "evgCpZVJPaPv",
      "execution_count": null,
      "outputs": []
    }
  ],
  "metadata": {
    "kernelspec": {
      "display_name": "Python 3 (ipykernel)",
      "language": "python",
      "name": "python3"
    },
    "language_info": {
      "codemirror_mode": {
        "name": "ipython",
        "version": 3
      },
      "file_extension": ".py",
      "mimetype": "text/x-python",
      "name": "python",
      "nbconvert_exporter": "python",
      "pygments_lexer": "ipython3",
      "version": "3.9.7"
    },
    "colab": {
      "provenance": []
    }
  },
  "nbformat": 4,
  "nbformat_minor": 5
}