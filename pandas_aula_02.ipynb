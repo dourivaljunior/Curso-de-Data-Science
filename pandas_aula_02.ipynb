{
  "nbformat": 4,
  "nbformat_minor": 0,
  "metadata": {
    "colab": {
      "provenance": [],
      "collapsed_sections": []
    },
    "kernelspec": {
      "name": "python3",
      "display_name": "Python 3"
    },
    "language_info": {
      "name": "python"
    }
  },
  "cells": [
    {
      "cell_type": "markdown",
      "source": [
        "Importando as bibliotecas necessárias:"
      ],
      "metadata": {
        "id": "X3AznnMDLLtc"
      }
    },
    {
      "cell_type": "code",
      "source": [
        "import numpy as np\n",
        "import pandas as pd"
      ],
      "metadata": {
        "id": "EdaPLmkoLNWe"
      },
      "execution_count": 1,
      "outputs": []
    },
    {
      "cell_type": "markdown",
      "source": [
        "Importando o dataframe dados_funcionario.csv"
      ],
      "metadata": {
        "id": "jIwGx2JGNr2u"
      }
    },
    {
      "cell_type": "code",
      "source": [
        "from google.colab import files \n",
        "uploaded = files.upload()"
      ],
      "metadata": {
        "colab": {
          "base_uri": "https://localhost:8080/",
          "height": 74
        },
        "id": "3JYfhKKILWYL",
        "outputId": "a2e6cceb-0177-4642-85a4-597a0a61cdad"
      },
      "execution_count": 179,
      "outputs": [
        {
          "output_type": "display_data",
          "data": {
            "text/plain": [
              "<IPython.core.display.HTML object>"
            ],
            "text/html": [
              "\n",
              "     <input type=\"file\" id=\"files-f4e11237-bc9d-4634-a180-94a1cc1f1ee8\" name=\"files[]\" multiple disabled\n",
              "        style=\"border:none\" />\n",
              "     <output id=\"result-f4e11237-bc9d-4634-a180-94a1cc1f1ee8\">\n",
              "      Upload widget is only available when the cell has been executed in the\n",
              "      current browser session. Please rerun this cell to enable.\n",
              "      </output>\n",
              "      <script>// Copyright 2017 Google LLC\n",
              "//\n",
              "// Licensed under the Apache License, Version 2.0 (the \"License\");\n",
              "// you may not use this file except in compliance with the License.\n",
              "// You may obtain a copy of the License at\n",
              "//\n",
              "//      http://www.apache.org/licenses/LICENSE-2.0\n",
              "//\n",
              "// Unless required by applicable law or agreed to in writing, software\n",
              "// distributed under the License is distributed on an \"AS IS\" BASIS,\n",
              "// WITHOUT WARRANTIES OR CONDITIONS OF ANY KIND, either express or implied.\n",
              "// See the License for the specific language governing permissions and\n",
              "// limitations under the License.\n",
              "\n",
              "/**\n",
              " * @fileoverview Helpers for google.colab Python module.\n",
              " */\n",
              "(function(scope) {\n",
              "function span(text, styleAttributes = {}) {\n",
              "  const element = document.createElement('span');\n",
              "  element.textContent = text;\n",
              "  for (const key of Object.keys(styleAttributes)) {\n",
              "    element.style[key] = styleAttributes[key];\n",
              "  }\n",
              "  return element;\n",
              "}\n",
              "\n",
              "// Max number of bytes which will be uploaded at a time.\n",
              "const MAX_PAYLOAD_SIZE = 100 * 1024;\n",
              "\n",
              "function _uploadFiles(inputId, outputId) {\n",
              "  const steps = uploadFilesStep(inputId, outputId);\n",
              "  const outputElement = document.getElementById(outputId);\n",
              "  // Cache steps on the outputElement to make it available for the next call\n",
              "  // to uploadFilesContinue from Python.\n",
              "  outputElement.steps = steps;\n",
              "\n",
              "  return _uploadFilesContinue(outputId);\n",
              "}\n",
              "\n",
              "// This is roughly an async generator (not supported in the browser yet),\n",
              "// where there are multiple asynchronous steps and the Python side is going\n",
              "// to poll for completion of each step.\n",
              "// This uses a Promise to block the python side on completion of each step,\n",
              "// then passes the result of the previous step as the input to the next step.\n",
              "function _uploadFilesContinue(outputId) {\n",
              "  const outputElement = document.getElementById(outputId);\n",
              "  const steps = outputElement.steps;\n",
              "\n",
              "  const next = steps.next(outputElement.lastPromiseValue);\n",
              "  return Promise.resolve(next.value.promise).then((value) => {\n",
              "    // Cache the last promise value to make it available to the next\n",
              "    // step of the generator.\n",
              "    outputElement.lastPromiseValue = value;\n",
              "    return next.value.response;\n",
              "  });\n",
              "}\n",
              "\n",
              "/**\n",
              " * Generator function which is called between each async step of the upload\n",
              " * process.\n",
              " * @param {string} inputId Element ID of the input file picker element.\n",
              " * @param {string} outputId Element ID of the output display.\n",
              " * @return {!Iterable<!Object>} Iterable of next steps.\n",
              " */\n",
              "function* uploadFilesStep(inputId, outputId) {\n",
              "  const inputElement = document.getElementById(inputId);\n",
              "  inputElement.disabled = false;\n",
              "\n",
              "  const outputElement = document.getElementById(outputId);\n",
              "  outputElement.innerHTML = '';\n",
              "\n",
              "  const pickedPromise = new Promise((resolve) => {\n",
              "    inputElement.addEventListener('change', (e) => {\n",
              "      resolve(e.target.files);\n",
              "    });\n",
              "  });\n",
              "\n",
              "  const cancel = document.createElement('button');\n",
              "  inputElement.parentElement.appendChild(cancel);\n",
              "  cancel.textContent = 'Cancel upload';\n",
              "  const cancelPromise = new Promise((resolve) => {\n",
              "    cancel.onclick = () => {\n",
              "      resolve(null);\n",
              "    };\n",
              "  });\n",
              "\n",
              "  // Wait for the user to pick the files.\n",
              "  const files = yield {\n",
              "    promise: Promise.race([pickedPromise, cancelPromise]),\n",
              "    response: {\n",
              "      action: 'starting',\n",
              "    }\n",
              "  };\n",
              "\n",
              "  cancel.remove();\n",
              "\n",
              "  // Disable the input element since further picks are not allowed.\n",
              "  inputElement.disabled = true;\n",
              "\n",
              "  if (!files) {\n",
              "    return {\n",
              "      response: {\n",
              "        action: 'complete',\n",
              "      }\n",
              "    };\n",
              "  }\n",
              "\n",
              "  for (const file of files) {\n",
              "    const li = document.createElement('li');\n",
              "    li.append(span(file.name, {fontWeight: 'bold'}));\n",
              "    li.append(span(\n",
              "        `(${file.type || 'n/a'}) - ${file.size} bytes, ` +\n",
              "        `last modified: ${\n",
              "            file.lastModifiedDate ? file.lastModifiedDate.toLocaleDateString() :\n",
              "                                    'n/a'} - `));\n",
              "    const percent = span('0% done');\n",
              "    li.appendChild(percent);\n",
              "\n",
              "    outputElement.appendChild(li);\n",
              "\n",
              "    const fileDataPromise = new Promise((resolve) => {\n",
              "      const reader = new FileReader();\n",
              "      reader.onload = (e) => {\n",
              "        resolve(e.target.result);\n",
              "      };\n",
              "      reader.readAsArrayBuffer(file);\n",
              "    });\n",
              "    // Wait for the data to be ready.\n",
              "    let fileData = yield {\n",
              "      promise: fileDataPromise,\n",
              "      response: {\n",
              "        action: 'continue',\n",
              "      }\n",
              "    };\n",
              "\n",
              "    // Use a chunked sending to avoid message size limits. See b/62115660.\n",
              "    let position = 0;\n",
              "    do {\n",
              "      const length = Math.min(fileData.byteLength - position, MAX_PAYLOAD_SIZE);\n",
              "      const chunk = new Uint8Array(fileData, position, length);\n",
              "      position += length;\n",
              "\n",
              "      const base64 = btoa(String.fromCharCode.apply(null, chunk));\n",
              "      yield {\n",
              "        response: {\n",
              "          action: 'append',\n",
              "          file: file.name,\n",
              "          data: base64,\n",
              "        },\n",
              "      };\n",
              "\n",
              "      let percentDone = fileData.byteLength === 0 ?\n",
              "          100 :\n",
              "          Math.round((position / fileData.byteLength) * 100);\n",
              "      percent.textContent = `${percentDone}% done`;\n",
              "\n",
              "    } while (position < fileData.byteLength);\n",
              "  }\n",
              "\n",
              "  // All done.\n",
              "  yield {\n",
              "    response: {\n",
              "      action: 'complete',\n",
              "    }\n",
              "  };\n",
              "}\n",
              "\n",
              "scope.google = scope.google || {};\n",
              "scope.google.colab = scope.google.colab || {};\n",
              "scope.google.colab._files = {\n",
              "  _uploadFiles,\n",
              "  _uploadFilesContinue,\n",
              "};\n",
              "})(self);\n",
              "</script> "
            ]
          },
          "metadata": {}
        },
        {
          "output_type": "stream",
          "name": "stdout",
          "text": [
            "Saving dados_funcionario.csv to dados_funcionario.csv\n"
          ]
        }
      ]
    },
    {
      "cell_type": "code",
      "source": [
        "df = pd.read_csv('dados_funcionario.csv')"
      ],
      "metadata": {
        "id": "KwyNAL6dLWmv"
      },
      "execution_count": 180,
      "outputs": []
    },
    {
      "cell_type": "markdown",
      "source": [
        "Verificar o dataframe:"
      ],
      "metadata": {
        "id": "SrXsqyn9NyPa"
      }
    },
    {
      "cell_type": "code",
      "source": [
        "df.info()"
      ],
      "metadata": {
        "colab": {
          "base_uri": "https://localhost:8080/"
        },
        "id": "IRRM0wacLWsU",
        "outputId": "7fdb8760-f7ad-4fe1-c7b2-fa6704199ff7"
      },
      "execution_count": 181,
      "outputs": [
        {
          "output_type": "stream",
          "name": "stdout",
          "text": [
            "<class 'pandas.core.frame.DataFrame'>\n",
            "RangeIndex: 10 entries, 0 to 9\n",
            "Data columns (total 8 columns):\n",
            " #   Column           Non-Null Count  Dtype \n",
            "---  ------           --------------  ----- \n",
            " 0   nome             10 non-null     object\n",
            " 1   idade            10 non-null     int64 \n",
            " 2   peso             10 non-null     int64 \n",
            " 3   altura           10 non-null     int64 \n",
            " 4   data_nascimento  10 non-null     object\n",
            " 5   cidade           10 non-null     object\n",
            " 6   mat              10 non-null     int64 \n",
            " 7   sexo             10 non-null     object\n",
            "dtypes: int64(4), object(4)\n",
            "memory usage: 768.0+ bytes\n"
          ]
        }
      ]
    },
    {
      "cell_type": "code",
      "source": [
        "df.head(10)"
      ],
      "metadata": {
        "colab": {
          "base_uri": "https://localhost:8080/",
          "height": 363
        },
        "id": "iy-IREu8LWyM",
        "outputId": "c12e6a55-2ed3-49d1-a9f5-d823418ef9e5"
      },
      "execution_count": 182,
      "outputs": [
        {
          "output_type": "execute_result",
          "data": {
            "text/plain": [
              "      nome  idade  peso  altura data_nascimento    cidade  mat sexo\n",
              "0      ana     23    56     156      20-05-2018  salvador  123    f\n",
              "1    pedro     25    86     166      20-06-2017  salvador  124    m\n",
              "2    paulo     28    76     176      20-07-2018  camacari  223    m\n",
              "3    david     21   107     167      20-08-2016     lauro  529    m\n",
              "4    pedro     23    92     162      20-09-2018  salvador  628    m\n",
              "5    maria     33    80     180      20-12-2017     lauro  723    f\n",
              "6    julia     33    85     175      20-11-2016  camacari  821    f\n",
              "7    carol     35    86     156      20-04-2019     lauro  927    f\n",
              "8  ricardo     33    78     158      20-05-2018  salvador  835    m\n",
              "9    joana     23    47     157      20-02-2017  salvador  553    f"
            ],
            "text/html": [
              "\n",
              "  <div id=\"df-9efbae92-81fd-47c7-ab1d-050ca3c6b2de\">\n",
              "    <div class=\"colab-df-container\">\n",
              "      <div>\n",
              "<style scoped>\n",
              "    .dataframe tbody tr th:only-of-type {\n",
              "        vertical-align: middle;\n",
              "    }\n",
              "\n",
              "    .dataframe tbody tr th {\n",
              "        vertical-align: top;\n",
              "    }\n",
              "\n",
              "    .dataframe thead th {\n",
              "        text-align: right;\n",
              "    }\n",
              "</style>\n",
              "<table border=\"1\" class=\"dataframe\">\n",
              "  <thead>\n",
              "    <tr style=\"text-align: right;\">\n",
              "      <th></th>\n",
              "      <th>nome</th>\n",
              "      <th>idade</th>\n",
              "      <th>peso</th>\n",
              "      <th>altura</th>\n",
              "      <th>data_nascimento</th>\n",
              "      <th>cidade</th>\n",
              "      <th>mat</th>\n",
              "      <th>sexo</th>\n",
              "    </tr>\n",
              "  </thead>\n",
              "  <tbody>\n",
              "    <tr>\n",
              "      <th>0</th>\n",
              "      <td>ana</td>\n",
              "      <td>23</td>\n",
              "      <td>56</td>\n",
              "      <td>156</td>\n",
              "      <td>20-05-2018</td>\n",
              "      <td>salvador</td>\n",
              "      <td>123</td>\n",
              "      <td>f</td>\n",
              "    </tr>\n",
              "    <tr>\n",
              "      <th>1</th>\n",
              "      <td>pedro</td>\n",
              "      <td>25</td>\n",
              "      <td>86</td>\n",
              "      <td>166</td>\n",
              "      <td>20-06-2017</td>\n",
              "      <td>salvador</td>\n",
              "      <td>124</td>\n",
              "      <td>m</td>\n",
              "    </tr>\n",
              "    <tr>\n",
              "      <th>2</th>\n",
              "      <td>paulo</td>\n",
              "      <td>28</td>\n",
              "      <td>76</td>\n",
              "      <td>176</td>\n",
              "      <td>20-07-2018</td>\n",
              "      <td>camacari</td>\n",
              "      <td>223</td>\n",
              "      <td>m</td>\n",
              "    </tr>\n",
              "    <tr>\n",
              "      <th>3</th>\n",
              "      <td>david</td>\n",
              "      <td>21</td>\n",
              "      <td>107</td>\n",
              "      <td>167</td>\n",
              "      <td>20-08-2016</td>\n",
              "      <td>lauro</td>\n",
              "      <td>529</td>\n",
              "      <td>m</td>\n",
              "    </tr>\n",
              "    <tr>\n",
              "      <th>4</th>\n",
              "      <td>pedro</td>\n",
              "      <td>23</td>\n",
              "      <td>92</td>\n",
              "      <td>162</td>\n",
              "      <td>20-09-2018</td>\n",
              "      <td>salvador</td>\n",
              "      <td>628</td>\n",
              "      <td>m</td>\n",
              "    </tr>\n",
              "    <tr>\n",
              "      <th>5</th>\n",
              "      <td>maria</td>\n",
              "      <td>33</td>\n",
              "      <td>80</td>\n",
              "      <td>180</td>\n",
              "      <td>20-12-2017</td>\n",
              "      <td>lauro</td>\n",
              "      <td>723</td>\n",
              "      <td>f</td>\n",
              "    </tr>\n",
              "    <tr>\n",
              "      <th>6</th>\n",
              "      <td>julia</td>\n",
              "      <td>33</td>\n",
              "      <td>85</td>\n",
              "      <td>175</td>\n",
              "      <td>20-11-2016</td>\n",
              "      <td>camacari</td>\n",
              "      <td>821</td>\n",
              "      <td>f</td>\n",
              "    </tr>\n",
              "    <tr>\n",
              "      <th>7</th>\n",
              "      <td>carol</td>\n",
              "      <td>35</td>\n",
              "      <td>86</td>\n",
              "      <td>156</td>\n",
              "      <td>20-04-2019</td>\n",
              "      <td>lauro</td>\n",
              "      <td>927</td>\n",
              "      <td>f</td>\n",
              "    </tr>\n",
              "    <tr>\n",
              "      <th>8</th>\n",
              "      <td>ricardo</td>\n",
              "      <td>33</td>\n",
              "      <td>78</td>\n",
              "      <td>158</td>\n",
              "      <td>20-05-2018</td>\n",
              "      <td>salvador</td>\n",
              "      <td>835</td>\n",
              "      <td>m</td>\n",
              "    </tr>\n",
              "    <tr>\n",
              "      <th>9</th>\n",
              "      <td>joana</td>\n",
              "      <td>23</td>\n",
              "      <td>47</td>\n",
              "      <td>157</td>\n",
              "      <td>20-02-2017</td>\n",
              "      <td>salvador</td>\n",
              "      <td>553</td>\n",
              "      <td>f</td>\n",
              "    </tr>\n",
              "  </tbody>\n",
              "</table>\n",
              "</div>\n",
              "      <button class=\"colab-df-convert\" onclick=\"convertToInteractive('df-9efbae92-81fd-47c7-ab1d-050ca3c6b2de')\"\n",
              "              title=\"Convert this dataframe to an interactive table.\"\n",
              "              style=\"display:none;\">\n",
              "        \n",
              "  <svg xmlns=\"http://www.w3.org/2000/svg\" height=\"24px\"viewBox=\"0 0 24 24\"\n",
              "       width=\"24px\">\n",
              "    <path d=\"M0 0h24v24H0V0z\" fill=\"none\"/>\n",
              "    <path d=\"M18.56 5.44l.94 2.06.94-2.06 2.06-.94-2.06-.94-.94-2.06-.94 2.06-2.06.94zm-11 1L8.5 8.5l.94-2.06 2.06-.94-2.06-.94L8.5 2.5l-.94 2.06-2.06.94zm10 10l.94 2.06.94-2.06 2.06-.94-2.06-.94-.94-2.06-.94 2.06-2.06.94z\"/><path d=\"M17.41 7.96l-1.37-1.37c-.4-.4-.92-.59-1.43-.59-.52 0-1.04.2-1.43.59L10.3 9.45l-7.72 7.72c-.78.78-.78 2.05 0 2.83L4 21.41c.39.39.9.59 1.41.59.51 0 1.02-.2 1.41-.59l7.78-7.78 2.81-2.81c.8-.78.8-2.07 0-2.86zM5.41 20L4 18.59l7.72-7.72 1.47 1.35L5.41 20z\"/>\n",
              "  </svg>\n",
              "      </button>\n",
              "      \n",
              "  <style>\n",
              "    .colab-df-container {\n",
              "      display:flex;\n",
              "      flex-wrap:wrap;\n",
              "      gap: 12px;\n",
              "    }\n",
              "\n",
              "    .colab-df-convert {\n",
              "      background-color: #E8F0FE;\n",
              "      border: none;\n",
              "      border-radius: 50%;\n",
              "      cursor: pointer;\n",
              "      display: none;\n",
              "      fill: #1967D2;\n",
              "      height: 32px;\n",
              "      padding: 0 0 0 0;\n",
              "      width: 32px;\n",
              "    }\n",
              "\n",
              "    .colab-df-convert:hover {\n",
              "      background-color: #E2EBFA;\n",
              "      box-shadow: 0px 1px 2px rgba(60, 64, 67, 0.3), 0px 1px 3px 1px rgba(60, 64, 67, 0.15);\n",
              "      fill: #174EA6;\n",
              "    }\n",
              "\n",
              "    [theme=dark] .colab-df-convert {\n",
              "      background-color: #3B4455;\n",
              "      fill: #D2E3FC;\n",
              "    }\n",
              "\n",
              "    [theme=dark] .colab-df-convert:hover {\n",
              "      background-color: #434B5C;\n",
              "      box-shadow: 0px 1px 3px 1px rgba(0, 0, 0, 0.15);\n",
              "      filter: drop-shadow(0px 1px 2px rgba(0, 0, 0, 0.3));\n",
              "      fill: #FFFFFF;\n",
              "    }\n",
              "  </style>\n",
              "\n",
              "      <script>\n",
              "        const buttonEl =\n",
              "          document.querySelector('#df-9efbae92-81fd-47c7-ab1d-050ca3c6b2de button.colab-df-convert');\n",
              "        buttonEl.style.display =\n",
              "          google.colab.kernel.accessAllowed ? 'block' : 'none';\n",
              "\n",
              "        async function convertToInteractive(key) {\n",
              "          const element = document.querySelector('#df-9efbae92-81fd-47c7-ab1d-050ca3c6b2de');\n",
              "          const dataTable =\n",
              "            await google.colab.kernel.invokeFunction('convertToInteractive',\n",
              "                                                     [key], {});\n",
              "          if (!dataTable) return;\n",
              "\n",
              "          const docLinkHtml = 'Like what you see? Visit the ' +\n",
              "            '<a target=\"_blank\" href=https://colab.research.google.com/notebooks/data_table.ipynb>data table notebook</a>'\n",
              "            + ' to learn more about interactive tables.';\n",
              "          element.innerHTML = '';\n",
              "          dataTable['output_type'] = 'display_data';\n",
              "          await google.colab.output.renderOutput(dataTable, element);\n",
              "          const docLink = document.createElement('div');\n",
              "          docLink.innerHTML = docLinkHtml;\n",
              "          element.appendChild(docLink);\n",
              "        }\n",
              "      </script>\n",
              "    </div>\n",
              "  </div>\n",
              "  "
            ]
          },
          "metadata": {},
          "execution_count": 182
        }
      ]
    },
    {
      "cell_type": "code",
      "source": [
        "df.columns"
      ],
      "metadata": {
        "colab": {
          "base_uri": "https://localhost:8080/"
        },
        "id": "aSv1r5zjLXCk",
        "outputId": "4026770f-23fc-4dc3-e84a-14a5c41d054b"
      },
      "execution_count": 183,
      "outputs": [
        {
          "output_type": "execute_result",
          "data": {
            "text/plain": [
              "Index(['nome', 'idade', 'peso', 'altura', 'data_nascimento', 'cidade', 'mat',\n",
              "       'sexo'],\n",
              "      dtype='object')"
            ]
          },
          "metadata": {},
          "execution_count": 183
        }
      ]
    },
    {
      "cell_type": "markdown",
      "source": [
        "#Manipular o dataframe:\n",
        "#calculando o IMC e adicionando a um novo dataframe."
      ],
      "metadata": {
        "id": "guXfcF7LO1qg"
      }
    },
    {
      "cell_type": "code",
      "source": [
        "imc=(df['peso']/df['altura']**2)*10000\n",
        "df_IMC=df\n",
        "df_IMC['imc']=imc\n",
        "display (df_IMC)"
      ],
      "metadata": {
        "colab": {
          "base_uri": "https://localhost:8080/",
          "height": 363
        },
        "id": "BHWxsFnWLXPP",
        "outputId": "af95d1a0-8416-45f7-c974-0225c0449520"
      },
      "execution_count": 184,
      "outputs": [
        {
          "output_type": "display_data",
          "data": {
            "text/plain": [
              "      nome  idade  peso  altura data_nascimento    cidade  mat sexo        imc\n",
              "0      ana     23    56     156      20-05-2018  salvador  123    f  23.011177\n",
              "1    pedro     25    86     166      20-06-2017  salvador  124    m  31.209174\n",
              "2    paulo     28    76     176      20-07-2018  camacari  223    m  24.535124\n",
              "3    david     21   107     167      20-08-2016     lauro  529    m  38.366381\n",
              "4    pedro     23    92     162      20-09-2018  salvador  628    m  35.055632\n",
              "5    maria     33    80     180      20-12-2017     lauro  723    f  24.691358\n",
              "6    julia     33    85     175      20-11-2016  camacari  821    f  27.755102\n",
              "7    carol     35    86     156      20-04-2019     lauro  927    f  35.338593\n",
              "8  ricardo     33    78     158      20-05-2018  salvador  835    m  31.244993\n",
              "9    joana     23    47     157      20-02-2017  salvador  553    f  19.067711"
            ],
            "text/html": [
              "\n",
              "  <div id=\"df-2bcb21de-30a1-4059-942d-b2df7c8c5561\">\n",
              "    <div class=\"colab-df-container\">\n",
              "      <div>\n",
              "<style scoped>\n",
              "    .dataframe tbody tr th:only-of-type {\n",
              "        vertical-align: middle;\n",
              "    }\n",
              "\n",
              "    .dataframe tbody tr th {\n",
              "        vertical-align: top;\n",
              "    }\n",
              "\n",
              "    .dataframe thead th {\n",
              "        text-align: right;\n",
              "    }\n",
              "</style>\n",
              "<table border=\"1\" class=\"dataframe\">\n",
              "  <thead>\n",
              "    <tr style=\"text-align: right;\">\n",
              "      <th></th>\n",
              "      <th>nome</th>\n",
              "      <th>idade</th>\n",
              "      <th>peso</th>\n",
              "      <th>altura</th>\n",
              "      <th>data_nascimento</th>\n",
              "      <th>cidade</th>\n",
              "      <th>mat</th>\n",
              "      <th>sexo</th>\n",
              "      <th>imc</th>\n",
              "    </tr>\n",
              "  </thead>\n",
              "  <tbody>\n",
              "    <tr>\n",
              "      <th>0</th>\n",
              "      <td>ana</td>\n",
              "      <td>23</td>\n",
              "      <td>56</td>\n",
              "      <td>156</td>\n",
              "      <td>20-05-2018</td>\n",
              "      <td>salvador</td>\n",
              "      <td>123</td>\n",
              "      <td>f</td>\n",
              "      <td>23.011177</td>\n",
              "    </tr>\n",
              "    <tr>\n",
              "      <th>1</th>\n",
              "      <td>pedro</td>\n",
              "      <td>25</td>\n",
              "      <td>86</td>\n",
              "      <td>166</td>\n",
              "      <td>20-06-2017</td>\n",
              "      <td>salvador</td>\n",
              "      <td>124</td>\n",
              "      <td>m</td>\n",
              "      <td>31.209174</td>\n",
              "    </tr>\n",
              "    <tr>\n",
              "      <th>2</th>\n",
              "      <td>paulo</td>\n",
              "      <td>28</td>\n",
              "      <td>76</td>\n",
              "      <td>176</td>\n",
              "      <td>20-07-2018</td>\n",
              "      <td>camacari</td>\n",
              "      <td>223</td>\n",
              "      <td>m</td>\n",
              "      <td>24.535124</td>\n",
              "    </tr>\n",
              "    <tr>\n",
              "      <th>3</th>\n",
              "      <td>david</td>\n",
              "      <td>21</td>\n",
              "      <td>107</td>\n",
              "      <td>167</td>\n",
              "      <td>20-08-2016</td>\n",
              "      <td>lauro</td>\n",
              "      <td>529</td>\n",
              "      <td>m</td>\n",
              "      <td>38.366381</td>\n",
              "    </tr>\n",
              "    <tr>\n",
              "      <th>4</th>\n",
              "      <td>pedro</td>\n",
              "      <td>23</td>\n",
              "      <td>92</td>\n",
              "      <td>162</td>\n",
              "      <td>20-09-2018</td>\n",
              "      <td>salvador</td>\n",
              "      <td>628</td>\n",
              "      <td>m</td>\n",
              "      <td>35.055632</td>\n",
              "    </tr>\n",
              "    <tr>\n",
              "      <th>5</th>\n",
              "      <td>maria</td>\n",
              "      <td>33</td>\n",
              "      <td>80</td>\n",
              "      <td>180</td>\n",
              "      <td>20-12-2017</td>\n",
              "      <td>lauro</td>\n",
              "      <td>723</td>\n",
              "      <td>f</td>\n",
              "      <td>24.691358</td>\n",
              "    </tr>\n",
              "    <tr>\n",
              "      <th>6</th>\n",
              "      <td>julia</td>\n",
              "      <td>33</td>\n",
              "      <td>85</td>\n",
              "      <td>175</td>\n",
              "      <td>20-11-2016</td>\n",
              "      <td>camacari</td>\n",
              "      <td>821</td>\n",
              "      <td>f</td>\n",
              "      <td>27.755102</td>\n",
              "    </tr>\n",
              "    <tr>\n",
              "      <th>7</th>\n",
              "      <td>carol</td>\n",
              "      <td>35</td>\n",
              "      <td>86</td>\n",
              "      <td>156</td>\n",
              "      <td>20-04-2019</td>\n",
              "      <td>lauro</td>\n",
              "      <td>927</td>\n",
              "      <td>f</td>\n",
              "      <td>35.338593</td>\n",
              "    </tr>\n",
              "    <tr>\n",
              "      <th>8</th>\n",
              "      <td>ricardo</td>\n",
              "      <td>33</td>\n",
              "      <td>78</td>\n",
              "      <td>158</td>\n",
              "      <td>20-05-2018</td>\n",
              "      <td>salvador</td>\n",
              "      <td>835</td>\n",
              "      <td>m</td>\n",
              "      <td>31.244993</td>\n",
              "    </tr>\n",
              "    <tr>\n",
              "      <th>9</th>\n",
              "      <td>joana</td>\n",
              "      <td>23</td>\n",
              "      <td>47</td>\n",
              "      <td>157</td>\n",
              "      <td>20-02-2017</td>\n",
              "      <td>salvador</td>\n",
              "      <td>553</td>\n",
              "      <td>f</td>\n",
              "      <td>19.067711</td>\n",
              "    </tr>\n",
              "  </tbody>\n",
              "</table>\n",
              "</div>\n",
              "      <button class=\"colab-df-convert\" onclick=\"convertToInteractive('df-2bcb21de-30a1-4059-942d-b2df7c8c5561')\"\n",
              "              title=\"Convert this dataframe to an interactive table.\"\n",
              "              style=\"display:none;\">\n",
              "        \n",
              "  <svg xmlns=\"http://www.w3.org/2000/svg\" height=\"24px\"viewBox=\"0 0 24 24\"\n",
              "       width=\"24px\">\n",
              "    <path d=\"M0 0h24v24H0V0z\" fill=\"none\"/>\n",
              "    <path d=\"M18.56 5.44l.94 2.06.94-2.06 2.06-.94-2.06-.94-.94-2.06-.94 2.06-2.06.94zm-11 1L8.5 8.5l.94-2.06 2.06-.94-2.06-.94L8.5 2.5l-.94 2.06-2.06.94zm10 10l.94 2.06.94-2.06 2.06-.94-2.06-.94-.94-2.06-.94 2.06-2.06.94z\"/><path d=\"M17.41 7.96l-1.37-1.37c-.4-.4-.92-.59-1.43-.59-.52 0-1.04.2-1.43.59L10.3 9.45l-7.72 7.72c-.78.78-.78 2.05 0 2.83L4 21.41c.39.39.9.59 1.41.59.51 0 1.02-.2 1.41-.59l7.78-7.78 2.81-2.81c.8-.78.8-2.07 0-2.86zM5.41 20L4 18.59l7.72-7.72 1.47 1.35L5.41 20z\"/>\n",
              "  </svg>\n",
              "      </button>\n",
              "      \n",
              "  <style>\n",
              "    .colab-df-container {\n",
              "      display:flex;\n",
              "      flex-wrap:wrap;\n",
              "      gap: 12px;\n",
              "    }\n",
              "\n",
              "    .colab-df-convert {\n",
              "      background-color: #E8F0FE;\n",
              "      border: none;\n",
              "      border-radius: 50%;\n",
              "      cursor: pointer;\n",
              "      display: none;\n",
              "      fill: #1967D2;\n",
              "      height: 32px;\n",
              "      padding: 0 0 0 0;\n",
              "      width: 32px;\n",
              "    }\n",
              "\n",
              "    .colab-df-convert:hover {\n",
              "      background-color: #E2EBFA;\n",
              "      box-shadow: 0px 1px 2px rgba(60, 64, 67, 0.3), 0px 1px 3px 1px rgba(60, 64, 67, 0.15);\n",
              "      fill: #174EA6;\n",
              "    }\n",
              "\n",
              "    [theme=dark] .colab-df-convert {\n",
              "      background-color: #3B4455;\n",
              "      fill: #D2E3FC;\n",
              "    }\n",
              "\n",
              "    [theme=dark] .colab-df-convert:hover {\n",
              "      background-color: #434B5C;\n",
              "      box-shadow: 0px 1px 3px 1px rgba(0, 0, 0, 0.15);\n",
              "      filter: drop-shadow(0px 1px 2px rgba(0, 0, 0, 0.3));\n",
              "      fill: #FFFFFF;\n",
              "    }\n",
              "  </style>\n",
              "\n",
              "      <script>\n",
              "        const buttonEl =\n",
              "          document.querySelector('#df-2bcb21de-30a1-4059-942d-b2df7c8c5561 button.colab-df-convert');\n",
              "        buttonEl.style.display =\n",
              "          google.colab.kernel.accessAllowed ? 'block' : 'none';\n",
              "\n",
              "        async function convertToInteractive(key) {\n",
              "          const element = document.querySelector('#df-2bcb21de-30a1-4059-942d-b2df7c8c5561');\n",
              "          const dataTable =\n",
              "            await google.colab.kernel.invokeFunction('convertToInteractive',\n",
              "                                                     [key], {});\n",
              "          if (!dataTable) return;\n",
              "\n",
              "          const docLinkHtml = 'Like what you see? Visit the ' +\n",
              "            '<a target=\"_blank\" href=https://colab.research.google.com/notebooks/data_table.ipynb>data table notebook</a>'\n",
              "            + ' to learn more about interactive tables.';\n",
              "          element.innerHTML = '';\n",
              "          dataTable['output_type'] = 'display_data';\n",
              "          await google.colab.output.renderOutput(dataTable, element);\n",
              "          const docLink = document.createElement('div');\n",
              "          docLink.innerHTML = docLinkHtml;\n",
              "          element.appendChild(docLink);\n",
              "        }\n",
              "      </script>\n",
              "    </div>\n",
              "  </div>\n",
              "  "
            ]
          },
          "metadata": {}
        }
      ]
    },
    {
      "cell_type": "code",
      "source": [
        "lista_peso=list(df['peso'])\n",
        "lista_altura=list(df['altura'])\n",
        "lista_IMC = list(map(lambda peso,altura: (peso/altura**2)*10000, lista_peso,lista_altura))\n",
        "df2_IMC=df\n",
        "df2_IMC['imc']=(lista_IMC)\n",
        "display (df2_IMC)"
      ],
      "metadata": {
        "colab": {
          "base_uri": "https://localhost:8080/",
          "height": 363
        },
        "id": "f8dJEeqbSR3P",
        "outputId": "f1f2ddd8-a936-4185-a87b-68dfcdc656e9"
      },
      "execution_count": 185,
      "outputs": [
        {
          "output_type": "display_data",
          "data": {
            "text/plain": [
              "      nome  idade  peso  altura data_nascimento    cidade  mat sexo        imc\n",
              "0      ana     23    56     156      20-05-2018  salvador  123    f  23.011177\n",
              "1    pedro     25    86     166      20-06-2017  salvador  124    m  31.209174\n",
              "2    paulo     28    76     176      20-07-2018  camacari  223    m  24.535124\n",
              "3    david     21   107     167      20-08-2016     lauro  529    m  38.366381\n",
              "4    pedro     23    92     162      20-09-2018  salvador  628    m  35.055632\n",
              "5    maria     33    80     180      20-12-2017     lauro  723    f  24.691358\n",
              "6    julia     33    85     175      20-11-2016  camacari  821    f  27.755102\n",
              "7    carol     35    86     156      20-04-2019     lauro  927    f  35.338593\n",
              "8  ricardo     33    78     158      20-05-2018  salvador  835    m  31.244993\n",
              "9    joana     23    47     157      20-02-2017  salvador  553    f  19.067711"
            ],
            "text/html": [
              "\n",
              "  <div id=\"df-defa60c1-935a-46fe-bda8-441552bd6b66\">\n",
              "    <div class=\"colab-df-container\">\n",
              "      <div>\n",
              "<style scoped>\n",
              "    .dataframe tbody tr th:only-of-type {\n",
              "        vertical-align: middle;\n",
              "    }\n",
              "\n",
              "    .dataframe tbody tr th {\n",
              "        vertical-align: top;\n",
              "    }\n",
              "\n",
              "    .dataframe thead th {\n",
              "        text-align: right;\n",
              "    }\n",
              "</style>\n",
              "<table border=\"1\" class=\"dataframe\">\n",
              "  <thead>\n",
              "    <tr style=\"text-align: right;\">\n",
              "      <th></th>\n",
              "      <th>nome</th>\n",
              "      <th>idade</th>\n",
              "      <th>peso</th>\n",
              "      <th>altura</th>\n",
              "      <th>data_nascimento</th>\n",
              "      <th>cidade</th>\n",
              "      <th>mat</th>\n",
              "      <th>sexo</th>\n",
              "      <th>imc</th>\n",
              "    </tr>\n",
              "  </thead>\n",
              "  <tbody>\n",
              "    <tr>\n",
              "      <th>0</th>\n",
              "      <td>ana</td>\n",
              "      <td>23</td>\n",
              "      <td>56</td>\n",
              "      <td>156</td>\n",
              "      <td>20-05-2018</td>\n",
              "      <td>salvador</td>\n",
              "      <td>123</td>\n",
              "      <td>f</td>\n",
              "      <td>23.011177</td>\n",
              "    </tr>\n",
              "    <tr>\n",
              "      <th>1</th>\n",
              "      <td>pedro</td>\n",
              "      <td>25</td>\n",
              "      <td>86</td>\n",
              "      <td>166</td>\n",
              "      <td>20-06-2017</td>\n",
              "      <td>salvador</td>\n",
              "      <td>124</td>\n",
              "      <td>m</td>\n",
              "      <td>31.209174</td>\n",
              "    </tr>\n",
              "    <tr>\n",
              "      <th>2</th>\n",
              "      <td>paulo</td>\n",
              "      <td>28</td>\n",
              "      <td>76</td>\n",
              "      <td>176</td>\n",
              "      <td>20-07-2018</td>\n",
              "      <td>camacari</td>\n",
              "      <td>223</td>\n",
              "      <td>m</td>\n",
              "      <td>24.535124</td>\n",
              "    </tr>\n",
              "    <tr>\n",
              "      <th>3</th>\n",
              "      <td>david</td>\n",
              "      <td>21</td>\n",
              "      <td>107</td>\n",
              "      <td>167</td>\n",
              "      <td>20-08-2016</td>\n",
              "      <td>lauro</td>\n",
              "      <td>529</td>\n",
              "      <td>m</td>\n",
              "      <td>38.366381</td>\n",
              "    </tr>\n",
              "    <tr>\n",
              "      <th>4</th>\n",
              "      <td>pedro</td>\n",
              "      <td>23</td>\n",
              "      <td>92</td>\n",
              "      <td>162</td>\n",
              "      <td>20-09-2018</td>\n",
              "      <td>salvador</td>\n",
              "      <td>628</td>\n",
              "      <td>m</td>\n",
              "      <td>35.055632</td>\n",
              "    </tr>\n",
              "    <tr>\n",
              "      <th>5</th>\n",
              "      <td>maria</td>\n",
              "      <td>33</td>\n",
              "      <td>80</td>\n",
              "      <td>180</td>\n",
              "      <td>20-12-2017</td>\n",
              "      <td>lauro</td>\n",
              "      <td>723</td>\n",
              "      <td>f</td>\n",
              "      <td>24.691358</td>\n",
              "    </tr>\n",
              "    <tr>\n",
              "      <th>6</th>\n",
              "      <td>julia</td>\n",
              "      <td>33</td>\n",
              "      <td>85</td>\n",
              "      <td>175</td>\n",
              "      <td>20-11-2016</td>\n",
              "      <td>camacari</td>\n",
              "      <td>821</td>\n",
              "      <td>f</td>\n",
              "      <td>27.755102</td>\n",
              "    </tr>\n",
              "    <tr>\n",
              "      <th>7</th>\n",
              "      <td>carol</td>\n",
              "      <td>35</td>\n",
              "      <td>86</td>\n",
              "      <td>156</td>\n",
              "      <td>20-04-2019</td>\n",
              "      <td>lauro</td>\n",
              "      <td>927</td>\n",
              "      <td>f</td>\n",
              "      <td>35.338593</td>\n",
              "    </tr>\n",
              "    <tr>\n",
              "      <th>8</th>\n",
              "      <td>ricardo</td>\n",
              "      <td>33</td>\n",
              "      <td>78</td>\n",
              "      <td>158</td>\n",
              "      <td>20-05-2018</td>\n",
              "      <td>salvador</td>\n",
              "      <td>835</td>\n",
              "      <td>m</td>\n",
              "      <td>31.244993</td>\n",
              "    </tr>\n",
              "    <tr>\n",
              "      <th>9</th>\n",
              "      <td>joana</td>\n",
              "      <td>23</td>\n",
              "      <td>47</td>\n",
              "      <td>157</td>\n",
              "      <td>20-02-2017</td>\n",
              "      <td>salvador</td>\n",
              "      <td>553</td>\n",
              "      <td>f</td>\n",
              "      <td>19.067711</td>\n",
              "    </tr>\n",
              "  </tbody>\n",
              "</table>\n",
              "</div>\n",
              "      <button class=\"colab-df-convert\" onclick=\"convertToInteractive('df-defa60c1-935a-46fe-bda8-441552bd6b66')\"\n",
              "              title=\"Convert this dataframe to an interactive table.\"\n",
              "              style=\"display:none;\">\n",
              "        \n",
              "  <svg xmlns=\"http://www.w3.org/2000/svg\" height=\"24px\"viewBox=\"0 0 24 24\"\n",
              "       width=\"24px\">\n",
              "    <path d=\"M0 0h24v24H0V0z\" fill=\"none\"/>\n",
              "    <path d=\"M18.56 5.44l.94 2.06.94-2.06 2.06-.94-2.06-.94-.94-2.06-.94 2.06-2.06.94zm-11 1L8.5 8.5l.94-2.06 2.06-.94-2.06-.94L8.5 2.5l-.94 2.06-2.06.94zm10 10l.94 2.06.94-2.06 2.06-.94-2.06-.94-.94-2.06-.94 2.06-2.06.94z\"/><path d=\"M17.41 7.96l-1.37-1.37c-.4-.4-.92-.59-1.43-.59-.52 0-1.04.2-1.43.59L10.3 9.45l-7.72 7.72c-.78.78-.78 2.05 0 2.83L4 21.41c.39.39.9.59 1.41.59.51 0 1.02-.2 1.41-.59l7.78-7.78 2.81-2.81c.8-.78.8-2.07 0-2.86zM5.41 20L4 18.59l7.72-7.72 1.47 1.35L5.41 20z\"/>\n",
              "  </svg>\n",
              "      </button>\n",
              "      \n",
              "  <style>\n",
              "    .colab-df-container {\n",
              "      display:flex;\n",
              "      flex-wrap:wrap;\n",
              "      gap: 12px;\n",
              "    }\n",
              "\n",
              "    .colab-df-convert {\n",
              "      background-color: #E8F0FE;\n",
              "      border: none;\n",
              "      border-radius: 50%;\n",
              "      cursor: pointer;\n",
              "      display: none;\n",
              "      fill: #1967D2;\n",
              "      height: 32px;\n",
              "      padding: 0 0 0 0;\n",
              "      width: 32px;\n",
              "    }\n",
              "\n",
              "    .colab-df-convert:hover {\n",
              "      background-color: #E2EBFA;\n",
              "      box-shadow: 0px 1px 2px rgba(60, 64, 67, 0.3), 0px 1px 3px 1px rgba(60, 64, 67, 0.15);\n",
              "      fill: #174EA6;\n",
              "    }\n",
              "\n",
              "    [theme=dark] .colab-df-convert {\n",
              "      background-color: #3B4455;\n",
              "      fill: #D2E3FC;\n",
              "    }\n",
              "\n",
              "    [theme=dark] .colab-df-convert:hover {\n",
              "      background-color: #434B5C;\n",
              "      box-shadow: 0px 1px 3px 1px rgba(0, 0, 0, 0.15);\n",
              "      filter: drop-shadow(0px 1px 2px rgba(0, 0, 0, 0.3));\n",
              "      fill: #FFFFFF;\n",
              "    }\n",
              "  </style>\n",
              "\n",
              "      <script>\n",
              "        const buttonEl =\n",
              "          document.querySelector('#df-defa60c1-935a-46fe-bda8-441552bd6b66 button.colab-df-convert');\n",
              "        buttonEl.style.display =\n",
              "          google.colab.kernel.accessAllowed ? 'block' : 'none';\n",
              "\n",
              "        async function convertToInteractive(key) {\n",
              "          const element = document.querySelector('#df-defa60c1-935a-46fe-bda8-441552bd6b66');\n",
              "          const dataTable =\n",
              "            await google.colab.kernel.invokeFunction('convertToInteractive',\n",
              "                                                     [key], {});\n",
              "          if (!dataTable) return;\n",
              "\n",
              "          const docLinkHtml = 'Like what you see? Visit the ' +\n",
              "            '<a target=\"_blank\" href=https://colab.research.google.com/notebooks/data_table.ipynb>data table notebook</a>'\n",
              "            + ' to learn more about interactive tables.';\n",
              "          element.innerHTML = '';\n",
              "          dataTable['output_type'] = 'display_data';\n",
              "          await google.colab.output.renderOutput(dataTable, element);\n",
              "          const docLink = document.createElement('div');\n",
              "          docLink.innerHTML = docLinkHtml;\n",
              "          element.appendChild(docLink);\n",
              "        }\n",
              "      </script>\n",
              "    </div>\n",
              "  </div>\n",
              "  "
            ]
          },
          "metadata": {}
        }
      ]
    },
    {
      "cell_type": "markdown",
      "source": [
        "#ordenando os elementos de uma coluna de maneira ascendente."
      ],
      "metadata": {
        "id": "O9TUXZhITwCF"
      }
    },
    {
      "cell_type": "code",
      "source": [
        "df_ord_peso=df.sort_values(by='peso',ascending=True)\n",
        "print(df_ord_peso)"
      ],
      "metadata": {
        "colab": {
          "base_uri": "https://localhost:8080/"
        },
        "id": "vuqOjbUlTa4A",
        "outputId": "c23f5b62-b954-4ad6-f7c7-1147b17c798e"
      },
      "execution_count": 186,
      "outputs": [
        {
          "output_type": "stream",
          "name": "stdout",
          "text": [
            "      nome  idade  peso  altura data_nascimento    cidade  mat sexo        imc\n",
            "9    joana     23    47     157      20-02-2017  salvador  553    f  19.067711\n",
            "0      ana     23    56     156      20-05-2018  salvador  123    f  23.011177\n",
            "2    paulo     28    76     176      20-07-2018  camacari  223    m  24.535124\n",
            "8  ricardo     33    78     158      20-05-2018  salvador  835    m  31.244993\n",
            "5    maria     33    80     180      20-12-2017     lauro  723    f  24.691358\n",
            "6    julia     33    85     175      20-11-2016  camacari  821    f  27.755102\n",
            "1    pedro     25    86     166      20-06-2017  salvador  124    m  31.209174\n",
            "7    carol     35    86     156      20-04-2019     lauro  927    f  35.338593\n",
            "4    pedro     23    92     162      20-09-2018  salvador  628    m  35.055632\n",
            "3    david     21   107     167      20-08-2016     lauro  529    m  38.366381\n"
          ]
        }
      ]
    },
    {
      "cell_type": "code",
      "source": [
        "df_ord_IMC=df.sort_values(by='imc',ascending=True)\n",
        "print(df_ord_IMC)"
      ],
      "metadata": {
        "colab": {
          "base_uri": "https://localhost:8080/"
        },
        "id": "BD6e-UNZUGLA",
        "outputId": "a2ed33f1-0795-4cf6-e876-cab4e7c540ea"
      },
      "execution_count": 187,
      "outputs": [
        {
          "output_type": "stream",
          "name": "stdout",
          "text": [
            "      nome  idade  peso  altura data_nascimento    cidade  mat sexo        imc\n",
            "9    joana     23    47     157      20-02-2017  salvador  553    f  19.067711\n",
            "0      ana     23    56     156      20-05-2018  salvador  123    f  23.011177\n",
            "2    paulo     28    76     176      20-07-2018  camacari  223    m  24.535124\n",
            "5    maria     33    80     180      20-12-2017     lauro  723    f  24.691358\n",
            "6    julia     33    85     175      20-11-2016  camacari  821    f  27.755102\n",
            "1    pedro     25    86     166      20-06-2017  salvador  124    m  31.209174\n",
            "8  ricardo     33    78     158      20-05-2018  salvador  835    m  31.244993\n",
            "4    pedro     23    92     162      20-09-2018  salvador  628    m  35.055632\n",
            "7    carol     35    86     156      20-04-2019     lauro  927    f  35.338593\n",
            "3    david     21   107     167      20-08-2016     lauro  529    m  38.366381\n"
          ]
        }
      ]
    },
    {
      "cell_type": "code",
      "source": [
        "df_ord_IMC_top3=df.sort_values(by='imc',ascending=True)[0:3]\n",
        "print(df_ord_IMC_top3)"
      ],
      "metadata": {
        "colab": {
          "base_uri": "https://localhost:8080/"
        },
        "id": "--RiSaX3tPRH",
        "outputId": "6750ff12-a5a5-4eb8-dc91-624fe0ae613e"
      },
      "execution_count": 188,
      "outputs": [
        {
          "output_type": "stream",
          "name": "stdout",
          "text": [
            "    nome  idade  peso  altura data_nascimento    cidade  mat sexo        imc\n",
            "9  joana     23    47     157      20-02-2017  salvador  553    f  19.067711\n",
            "0    ana     23    56     156      20-05-2018  salvador  123    f  23.011177\n",
            "2  paulo     28    76     176      20-07-2018  camacari  223    m  24.535124\n"
          ]
        }
      ]
    },
    {
      "cell_type": "markdown",
      "source": [
        "Converter a variável categórica sexo em numérica"
      ],
      "metadata": {
        "id": "7CXKHE_sPDCz"
      }
    },
    {
      "cell_type": "code",
      "source": [
        "df['sexo'] = df['sexo'].map({'m': 0, 'f': 1})\n",
        "print(df)"
      ],
      "metadata": {
        "colab": {
          "base_uri": "https://localhost:8080/"
        },
        "id": "W8Skz4E6PPYp",
        "outputId": "e52186cb-7b03-4838-df5d-18d9cb39c2a0"
      },
      "execution_count": 189,
      "outputs": [
        {
          "output_type": "stream",
          "name": "stdout",
          "text": [
            "      nome  idade  peso  altura data_nascimento    cidade  mat  sexo  \\\n",
            "0      ana     23    56     156      20-05-2018  salvador  123     1   \n",
            "1    pedro     25    86     166      20-06-2017  salvador  124     0   \n",
            "2    paulo     28    76     176      20-07-2018  camacari  223     0   \n",
            "3    david     21   107     167      20-08-2016     lauro  529     0   \n",
            "4    pedro     23    92     162      20-09-2018  salvador  628     0   \n",
            "5    maria     33    80     180      20-12-2017     lauro  723     1   \n",
            "6    julia     33    85     175      20-11-2016  camacari  821     1   \n",
            "7    carol     35    86     156      20-04-2019     lauro  927     1   \n",
            "8  ricardo     33    78     158      20-05-2018  salvador  835     0   \n",
            "9    joana     23    47     157      20-02-2017  salvador  553     1   \n",
            "\n",
            "         imc  \n",
            "0  23.011177  \n",
            "1  31.209174  \n",
            "2  24.535124  \n",
            "3  38.366381  \n",
            "4  35.055632  \n",
            "5  24.691358  \n",
            "6  27.755102  \n",
            "7  35.338593  \n",
            "8  31.244993  \n",
            "9  19.067711  \n"
          ]
        }
      ]
    },
    {
      "cell_type": "markdown",
      "source": [
        "# Aplicando um filtro num valor de uma coluna:"
      ],
      "metadata": {
        "id": "dXcAGogUUuZJ"
      }
    },
    {
      "cell_type": "code",
      "source": [
        "df2 = df[ (df['idade'] >= 30) ]\n",
        "print(df2)"
      ],
      "metadata": {
        "colab": {
          "base_uri": "https://localhost:8080/"
        },
        "id": "pbo1SMYAUzbY",
        "outputId": "41adb0a4-e63f-403e-e971-defc63a159c8"
      },
      "execution_count": 190,
      "outputs": [
        {
          "output_type": "stream",
          "name": "stdout",
          "text": [
            "      nome  idade  peso  altura data_nascimento    cidade  mat  sexo  \\\n",
            "5    maria     33    80     180      20-12-2017     lauro  723     1   \n",
            "6    julia     33    85     175      20-11-2016  camacari  821     1   \n",
            "7    carol     35    86     156      20-04-2019     lauro  927     1   \n",
            "8  ricardo     33    78     158      20-05-2018  salvador  835     0   \n",
            "\n",
            "         imc  \n",
            "5  24.691358  \n",
            "6  27.755102  \n",
            "7  35.338593  \n",
            "8  31.244993  \n"
          ]
        }
      ]
    },
    {
      "cell_type": "code",
      "source": [
        "print(df)"
      ],
      "metadata": {
        "colab": {
          "base_uri": "https://localhost:8080/"
        },
        "id": "EOHXXtPKkr9J",
        "outputId": "d1fd2868-b146-47dc-960d-d2c85ce49527"
      },
      "execution_count": 191,
      "outputs": [
        {
          "output_type": "stream",
          "name": "stdout",
          "text": [
            "      nome  idade  peso  altura data_nascimento    cidade  mat  sexo  \\\n",
            "0      ana     23    56     156      20-05-2018  salvador  123     1   \n",
            "1    pedro     25    86     166      20-06-2017  salvador  124     0   \n",
            "2    paulo     28    76     176      20-07-2018  camacari  223     0   \n",
            "3    david     21   107     167      20-08-2016     lauro  529     0   \n",
            "4    pedro     23    92     162      20-09-2018  salvador  628     0   \n",
            "5    maria     33    80     180      20-12-2017     lauro  723     1   \n",
            "6    julia     33    85     175      20-11-2016  camacari  821     1   \n",
            "7    carol     35    86     156      20-04-2019     lauro  927     1   \n",
            "8  ricardo     33    78     158      20-05-2018  salvador  835     0   \n",
            "9    joana     23    47     157      20-02-2017  salvador  553     1   \n",
            "\n",
            "         imc  \n",
            "0  23.011177  \n",
            "1  31.209174  \n",
            "2  24.535124  \n",
            "3  38.366381  \n",
            "4  35.055632  \n",
            "5  24.691358  \n",
            "6  27.755102  \n",
            "7  35.338593  \n",
            "8  31.244993  \n",
            "9  19.067711  \n"
          ]
        }
      ]
    },
    {
      "cell_type": "markdown",
      "source": [
        "#Usando condicional no dataframe."
      ],
      "metadata": {
        "id": "9JRDDuE1OgC-"
      }
    },
    {
      "cell_type": "code",
      "source": [
        "df3 = df[ (df['idade'] >= 30) & (df['peso'] >= 60)]\n",
        "print(df3)"
      ],
      "metadata": {
        "colab": {
          "base_uri": "https://localhost:8080/"
        },
        "id": "RcVP2ujkVGmn",
        "outputId": "fa436dd5-bc8a-4ebf-ee5c-31e76ad86947"
      },
      "execution_count": 192,
      "outputs": [
        {
          "output_type": "stream",
          "name": "stdout",
          "text": [
            "      nome  idade  peso  altura data_nascimento    cidade  mat  sexo  \\\n",
            "5    maria     33    80     180      20-12-2017     lauro  723     1   \n",
            "6    julia     33    85     175      20-11-2016  camacari  821     1   \n",
            "7    carol     35    86     156      20-04-2019     lauro  927     1   \n",
            "8  ricardo     33    78     158      20-05-2018  salvador  835     0   \n",
            "\n",
            "         imc  \n",
            "5  24.691358  \n",
            "6  27.755102  \n",
            "7  35.338593  \n",
            "8  31.244993  \n"
          ]
        }
      ]
    },
    {
      "cell_type": "code",
      "source": [
        "df4 = df[ (df['idade'] >= 33) | (df['cidade'] == 'camacari')]\n",
        "print(df4)"
      ],
      "metadata": {
        "colab": {
          "base_uri": "https://localhost:8080/"
        },
        "id": "mucSFhsbVLZG",
        "outputId": "94149914-a727-4e61-cbd5-a2083f2a9eb3"
      },
      "execution_count": 193,
      "outputs": [
        {
          "output_type": "stream",
          "name": "stdout",
          "text": [
            "      nome  idade  peso  altura data_nascimento    cidade  mat  sexo  \\\n",
            "2    paulo     28    76     176      20-07-2018  camacari  223     0   \n",
            "5    maria     33    80     180      20-12-2017     lauro  723     1   \n",
            "6    julia     33    85     175      20-11-2016  camacari  821     1   \n",
            "7    carol     35    86     156      20-04-2019     lauro  927     1   \n",
            "8  ricardo     33    78     158      20-05-2018  salvador  835     0   \n",
            "\n",
            "         imc  \n",
            "2  24.535124  \n",
            "5  24.691358  \n",
            "6  27.755102  \n",
            "7  35.338593  \n",
            "8  31.244993  \n"
          ]
        }
      ]
    },
    {
      "cell_type": "markdown",
      "source": [
        "#value_counts"
      ],
      "metadata": {
        "id": "snL5flA5Om1r"
      }
    },
    {
      "cell_type": "code",
      "source": [
        "df['peso'].value_counts()"
      ],
      "metadata": {
        "colab": {
          "base_uri": "https://localhost:8080/"
        },
        "id": "KriNzCrbWgla",
        "outputId": "a0ea0f14-1f08-4f83-ce4c-98f1be00bee5"
      },
      "execution_count": 194,
      "outputs": [
        {
          "output_type": "execute_result",
          "data": {
            "text/plain": [
              "86     2\n",
              "56     1\n",
              "76     1\n",
              "107    1\n",
              "92     1\n",
              "80     1\n",
              "85     1\n",
              "78     1\n",
              "47     1\n",
              "Name: peso, dtype: int64"
            ]
          },
          "metadata": {},
          "execution_count": 194
        }
      ]
    },
    {
      "cell_type": "code",
      "source": [
        "df['peso'].value_counts(normalize=True)"
      ],
      "metadata": {
        "colab": {
          "base_uri": "https://localhost:8080/"
        },
        "id": "Zehn5U5qWg2W",
        "outputId": "2cf1cbce-55fe-4307-9732-16712ccbdeee"
      },
      "execution_count": 195,
      "outputs": [
        {
          "output_type": "execute_result",
          "data": {
            "text/plain": [
              "86     0.2\n",
              "56     0.1\n",
              "76     0.1\n",
              "107    0.1\n",
              "92     0.1\n",
              "80     0.1\n",
              "85     0.1\n",
              "78     0.1\n",
              "47     0.1\n",
              "Name: peso, dtype: float64"
            ]
          },
          "metadata": {},
          "execution_count": 195
        }
      ]
    },
    {
      "cell_type": "code",
      "source": [
        "print(df)"
      ],
      "metadata": {
        "colab": {
          "base_uri": "https://localhost:8080/"
        },
        "id": "hIH-qP6hqPWJ",
        "outputId": "db05fb4d-9489-4c32-8fc4-1fefeaaa1e78"
      },
      "execution_count": 197,
      "outputs": [
        {
          "output_type": "stream",
          "name": "stdout",
          "text": [
            "      nome  idade  peso  altura data_nascimento    cidade  mat  sexo  \\\n",
            "0      ana     23    56     156      20-05-2018  salvador  123     1   \n",
            "1    pedro     25    86     166      20-06-2017  salvador  124     0   \n",
            "2    paulo     28    76     176      20-07-2018  camacari  223     0   \n",
            "3    david     21   107     167      20-08-2016     lauro  529     0   \n",
            "4    pedro     23    92     162      20-09-2018  salvador  628     0   \n",
            "5    maria     33    80     180      20-12-2017     lauro  723     1   \n",
            "6    julia     33    85     175      20-11-2016  camacari  821     1   \n",
            "7    carol     35    86     156      20-04-2019     lauro  927     1   \n",
            "8  ricardo     33    78     158      20-05-2018  salvador  835     0   \n",
            "9    joana     23    47     157      20-02-2017  salvador  553     1   \n",
            "\n",
            "         imc  \n",
            "0  23.011177  \n",
            "1  31.209174  \n",
            "2  24.535124  \n",
            "3  38.366381  \n",
            "4  35.055632  \n",
            "5  24.691358  \n",
            "6  27.755102  \n",
            "7  35.338593  \n",
            "8  31.244993  \n",
            "9  19.067711  \n"
          ]
        }
      ]
    },
    {
      "cell_type": "markdown",
      "source": [
        "# trabalhando com a data."
      ],
      "metadata": {
        "id": "Vz1SEb-fOzwl"
      }
    },
    {
      "cell_type": "code",
      "source": [
        "from datetime import date, time, datetime\n",
        "df['data_padrao']=pd.to_datetime(df['data_nascimento'])"
      ],
      "metadata": {
        "id": "bx4VkhuWnUrt"
      },
      "execution_count": 198,
      "outputs": []
    },
    {
      "cell_type": "code",
      "source": [
        "df['ano']=pd.to_datetime(df['data_nascimento']).dt.year"
      ],
      "metadata": {
        "id": "W3Hr5RXLWhFQ"
      },
      "execution_count": 199,
      "outputs": []
    },
    {
      "cell_type": "code",
      "source": [
        "df.head()"
      ],
      "metadata": {
        "colab": {
          "base_uri": "https://localhost:8080/",
          "height": 206
        },
        "id": "cGR9c8l6ibU8",
        "outputId": "88c611de-e826-48fa-bea4-2efbeaced9b2"
      },
      "execution_count": 200,
      "outputs": [
        {
          "output_type": "execute_result",
          "data": {
            "text/plain": [
              "    nome  idade  peso  altura data_nascimento    cidade  mat  sexo        imc  \\\n",
              "0    ana     23    56     156      20-05-2018  salvador  123     1  23.011177   \n",
              "1  pedro     25    86     166      20-06-2017  salvador  124     0  31.209174   \n",
              "2  paulo     28    76     176      20-07-2018  camacari  223     0  24.535124   \n",
              "3  david     21   107     167      20-08-2016     lauro  529     0  38.366381   \n",
              "4  pedro     23    92     162      20-09-2018  salvador  628     0  35.055632   \n",
              "\n",
              "  data_padrao   ano  \n",
              "0  2018-05-20  2018  \n",
              "1  2017-06-20  2017  \n",
              "2  2018-07-20  2018  \n",
              "3  2016-08-20  2016  \n",
              "4  2018-09-20  2018  "
            ],
            "text/html": [
              "\n",
              "  <div id=\"df-e3c315a0-9a6f-423e-a877-5cfcd8797b8b\">\n",
              "    <div class=\"colab-df-container\">\n",
              "      <div>\n",
              "<style scoped>\n",
              "    .dataframe tbody tr th:only-of-type {\n",
              "        vertical-align: middle;\n",
              "    }\n",
              "\n",
              "    .dataframe tbody tr th {\n",
              "        vertical-align: top;\n",
              "    }\n",
              "\n",
              "    .dataframe thead th {\n",
              "        text-align: right;\n",
              "    }\n",
              "</style>\n",
              "<table border=\"1\" class=\"dataframe\">\n",
              "  <thead>\n",
              "    <tr style=\"text-align: right;\">\n",
              "      <th></th>\n",
              "      <th>nome</th>\n",
              "      <th>idade</th>\n",
              "      <th>peso</th>\n",
              "      <th>altura</th>\n",
              "      <th>data_nascimento</th>\n",
              "      <th>cidade</th>\n",
              "      <th>mat</th>\n",
              "      <th>sexo</th>\n",
              "      <th>imc</th>\n",
              "      <th>data_padrao</th>\n",
              "      <th>ano</th>\n",
              "    </tr>\n",
              "  </thead>\n",
              "  <tbody>\n",
              "    <tr>\n",
              "      <th>0</th>\n",
              "      <td>ana</td>\n",
              "      <td>23</td>\n",
              "      <td>56</td>\n",
              "      <td>156</td>\n",
              "      <td>20-05-2018</td>\n",
              "      <td>salvador</td>\n",
              "      <td>123</td>\n",
              "      <td>1</td>\n",
              "      <td>23.011177</td>\n",
              "      <td>2018-05-20</td>\n",
              "      <td>2018</td>\n",
              "    </tr>\n",
              "    <tr>\n",
              "      <th>1</th>\n",
              "      <td>pedro</td>\n",
              "      <td>25</td>\n",
              "      <td>86</td>\n",
              "      <td>166</td>\n",
              "      <td>20-06-2017</td>\n",
              "      <td>salvador</td>\n",
              "      <td>124</td>\n",
              "      <td>0</td>\n",
              "      <td>31.209174</td>\n",
              "      <td>2017-06-20</td>\n",
              "      <td>2017</td>\n",
              "    </tr>\n",
              "    <tr>\n",
              "      <th>2</th>\n",
              "      <td>paulo</td>\n",
              "      <td>28</td>\n",
              "      <td>76</td>\n",
              "      <td>176</td>\n",
              "      <td>20-07-2018</td>\n",
              "      <td>camacari</td>\n",
              "      <td>223</td>\n",
              "      <td>0</td>\n",
              "      <td>24.535124</td>\n",
              "      <td>2018-07-20</td>\n",
              "      <td>2018</td>\n",
              "    </tr>\n",
              "    <tr>\n",
              "      <th>3</th>\n",
              "      <td>david</td>\n",
              "      <td>21</td>\n",
              "      <td>107</td>\n",
              "      <td>167</td>\n",
              "      <td>20-08-2016</td>\n",
              "      <td>lauro</td>\n",
              "      <td>529</td>\n",
              "      <td>0</td>\n",
              "      <td>38.366381</td>\n",
              "      <td>2016-08-20</td>\n",
              "      <td>2016</td>\n",
              "    </tr>\n",
              "    <tr>\n",
              "      <th>4</th>\n",
              "      <td>pedro</td>\n",
              "      <td>23</td>\n",
              "      <td>92</td>\n",
              "      <td>162</td>\n",
              "      <td>20-09-2018</td>\n",
              "      <td>salvador</td>\n",
              "      <td>628</td>\n",
              "      <td>0</td>\n",
              "      <td>35.055632</td>\n",
              "      <td>2018-09-20</td>\n",
              "      <td>2018</td>\n",
              "    </tr>\n",
              "  </tbody>\n",
              "</table>\n",
              "</div>\n",
              "      <button class=\"colab-df-convert\" onclick=\"convertToInteractive('df-e3c315a0-9a6f-423e-a877-5cfcd8797b8b')\"\n",
              "              title=\"Convert this dataframe to an interactive table.\"\n",
              "              style=\"display:none;\">\n",
              "        \n",
              "  <svg xmlns=\"http://www.w3.org/2000/svg\" height=\"24px\"viewBox=\"0 0 24 24\"\n",
              "       width=\"24px\">\n",
              "    <path d=\"M0 0h24v24H0V0z\" fill=\"none\"/>\n",
              "    <path d=\"M18.56 5.44l.94 2.06.94-2.06 2.06-.94-2.06-.94-.94-2.06-.94 2.06-2.06.94zm-11 1L8.5 8.5l.94-2.06 2.06-.94-2.06-.94L8.5 2.5l-.94 2.06-2.06.94zm10 10l.94 2.06.94-2.06 2.06-.94-2.06-.94-.94-2.06-.94 2.06-2.06.94z\"/><path d=\"M17.41 7.96l-1.37-1.37c-.4-.4-.92-.59-1.43-.59-.52 0-1.04.2-1.43.59L10.3 9.45l-7.72 7.72c-.78.78-.78 2.05 0 2.83L4 21.41c.39.39.9.59 1.41.59.51 0 1.02-.2 1.41-.59l7.78-7.78 2.81-2.81c.8-.78.8-2.07 0-2.86zM5.41 20L4 18.59l7.72-7.72 1.47 1.35L5.41 20z\"/>\n",
              "  </svg>\n",
              "      </button>\n",
              "      \n",
              "  <style>\n",
              "    .colab-df-container {\n",
              "      display:flex;\n",
              "      flex-wrap:wrap;\n",
              "      gap: 12px;\n",
              "    }\n",
              "\n",
              "    .colab-df-convert {\n",
              "      background-color: #E8F0FE;\n",
              "      border: none;\n",
              "      border-radius: 50%;\n",
              "      cursor: pointer;\n",
              "      display: none;\n",
              "      fill: #1967D2;\n",
              "      height: 32px;\n",
              "      padding: 0 0 0 0;\n",
              "      width: 32px;\n",
              "    }\n",
              "\n",
              "    .colab-df-convert:hover {\n",
              "      background-color: #E2EBFA;\n",
              "      box-shadow: 0px 1px 2px rgba(60, 64, 67, 0.3), 0px 1px 3px 1px rgba(60, 64, 67, 0.15);\n",
              "      fill: #174EA6;\n",
              "    }\n",
              "\n",
              "    [theme=dark] .colab-df-convert {\n",
              "      background-color: #3B4455;\n",
              "      fill: #D2E3FC;\n",
              "    }\n",
              "\n",
              "    [theme=dark] .colab-df-convert:hover {\n",
              "      background-color: #434B5C;\n",
              "      box-shadow: 0px 1px 3px 1px rgba(0, 0, 0, 0.15);\n",
              "      filter: drop-shadow(0px 1px 2px rgba(0, 0, 0, 0.3));\n",
              "      fill: #FFFFFF;\n",
              "    }\n",
              "  </style>\n",
              "\n",
              "      <script>\n",
              "        const buttonEl =\n",
              "          document.querySelector('#df-e3c315a0-9a6f-423e-a877-5cfcd8797b8b button.colab-df-convert');\n",
              "        buttonEl.style.display =\n",
              "          google.colab.kernel.accessAllowed ? 'block' : 'none';\n",
              "\n",
              "        async function convertToInteractive(key) {\n",
              "          const element = document.querySelector('#df-e3c315a0-9a6f-423e-a877-5cfcd8797b8b');\n",
              "          const dataTable =\n",
              "            await google.colab.kernel.invokeFunction('convertToInteractive',\n",
              "                                                     [key], {});\n",
              "          if (!dataTable) return;\n",
              "\n",
              "          const docLinkHtml = 'Like what you see? Visit the ' +\n",
              "            '<a target=\"_blank\" href=https://colab.research.google.com/notebooks/data_table.ipynb>data table notebook</a>'\n",
              "            + ' to learn more about interactive tables.';\n",
              "          element.innerHTML = '';\n",
              "          dataTable['output_type'] = 'display_data';\n",
              "          await google.colab.output.renderOutput(dataTable, element);\n",
              "          const docLink = document.createElement('div');\n",
              "          docLink.innerHTML = docLinkHtml;\n",
              "          element.appendChild(docLink);\n",
              "        }\n",
              "      </script>\n",
              "    </div>\n",
              "  </div>\n",
              "  "
            ]
          },
          "metadata": {},
          "execution_count": 200
        }
      ]
    },
    {
      "cell_type": "markdown",
      "source": [
        "#Groupby"
      ],
      "metadata": {
        "id": "g79h3zN8qbm7"
      }
    },
    {
      "cell_type": "code",
      "source": [
        "df_gb1=df.groupby('cidade').count().reset_index()\n",
        "df_gb1"
      ],
      "metadata": {
        "colab": {
          "base_uri": "https://localhost:8080/",
          "height": 143
        },
        "id": "AOCysm7tibjy",
        "outputId": "eaa14d20-89d3-4076-a748-1cbde10aae53"
      },
      "execution_count": 201,
      "outputs": [
        {
          "output_type": "execute_result",
          "data": {
            "text/plain": [
              "     cidade  nome  idade  peso  altura  data_nascimento  mat  sexo  imc  \\\n",
              "0  camacari     2      2     2       2                2    2     2    2   \n",
              "1     lauro     3      3     3       3                3    3     3    3   \n",
              "2  salvador     5      5     5       5                5    5     5    5   \n",
              "\n",
              "   data_padrao  ano  \n",
              "0            2    2  \n",
              "1            3    3  \n",
              "2            5    5  "
            ],
            "text/html": [
              "\n",
              "  <div id=\"df-a3a3ccf6-4f56-4791-a34a-29468d6ce109\">\n",
              "    <div class=\"colab-df-container\">\n",
              "      <div>\n",
              "<style scoped>\n",
              "    .dataframe tbody tr th:only-of-type {\n",
              "        vertical-align: middle;\n",
              "    }\n",
              "\n",
              "    .dataframe tbody tr th {\n",
              "        vertical-align: top;\n",
              "    }\n",
              "\n",
              "    .dataframe thead th {\n",
              "        text-align: right;\n",
              "    }\n",
              "</style>\n",
              "<table border=\"1\" class=\"dataframe\">\n",
              "  <thead>\n",
              "    <tr style=\"text-align: right;\">\n",
              "      <th></th>\n",
              "      <th>cidade</th>\n",
              "      <th>nome</th>\n",
              "      <th>idade</th>\n",
              "      <th>peso</th>\n",
              "      <th>altura</th>\n",
              "      <th>data_nascimento</th>\n",
              "      <th>mat</th>\n",
              "      <th>sexo</th>\n",
              "      <th>imc</th>\n",
              "      <th>data_padrao</th>\n",
              "      <th>ano</th>\n",
              "    </tr>\n",
              "  </thead>\n",
              "  <tbody>\n",
              "    <tr>\n",
              "      <th>0</th>\n",
              "      <td>camacari</td>\n",
              "      <td>2</td>\n",
              "      <td>2</td>\n",
              "      <td>2</td>\n",
              "      <td>2</td>\n",
              "      <td>2</td>\n",
              "      <td>2</td>\n",
              "      <td>2</td>\n",
              "      <td>2</td>\n",
              "      <td>2</td>\n",
              "      <td>2</td>\n",
              "    </tr>\n",
              "    <tr>\n",
              "      <th>1</th>\n",
              "      <td>lauro</td>\n",
              "      <td>3</td>\n",
              "      <td>3</td>\n",
              "      <td>3</td>\n",
              "      <td>3</td>\n",
              "      <td>3</td>\n",
              "      <td>3</td>\n",
              "      <td>3</td>\n",
              "      <td>3</td>\n",
              "      <td>3</td>\n",
              "      <td>3</td>\n",
              "    </tr>\n",
              "    <tr>\n",
              "      <th>2</th>\n",
              "      <td>salvador</td>\n",
              "      <td>5</td>\n",
              "      <td>5</td>\n",
              "      <td>5</td>\n",
              "      <td>5</td>\n",
              "      <td>5</td>\n",
              "      <td>5</td>\n",
              "      <td>5</td>\n",
              "      <td>5</td>\n",
              "      <td>5</td>\n",
              "      <td>5</td>\n",
              "    </tr>\n",
              "  </tbody>\n",
              "</table>\n",
              "</div>\n",
              "      <button class=\"colab-df-convert\" onclick=\"convertToInteractive('df-a3a3ccf6-4f56-4791-a34a-29468d6ce109')\"\n",
              "              title=\"Convert this dataframe to an interactive table.\"\n",
              "              style=\"display:none;\">\n",
              "        \n",
              "  <svg xmlns=\"http://www.w3.org/2000/svg\" height=\"24px\"viewBox=\"0 0 24 24\"\n",
              "       width=\"24px\">\n",
              "    <path d=\"M0 0h24v24H0V0z\" fill=\"none\"/>\n",
              "    <path d=\"M18.56 5.44l.94 2.06.94-2.06 2.06-.94-2.06-.94-.94-2.06-.94 2.06-2.06.94zm-11 1L8.5 8.5l.94-2.06 2.06-.94-2.06-.94L8.5 2.5l-.94 2.06-2.06.94zm10 10l.94 2.06.94-2.06 2.06-.94-2.06-.94-.94-2.06-.94 2.06-2.06.94z\"/><path d=\"M17.41 7.96l-1.37-1.37c-.4-.4-.92-.59-1.43-.59-.52 0-1.04.2-1.43.59L10.3 9.45l-7.72 7.72c-.78.78-.78 2.05 0 2.83L4 21.41c.39.39.9.59 1.41.59.51 0 1.02-.2 1.41-.59l7.78-7.78 2.81-2.81c.8-.78.8-2.07 0-2.86zM5.41 20L4 18.59l7.72-7.72 1.47 1.35L5.41 20z\"/>\n",
              "  </svg>\n",
              "      </button>\n",
              "      \n",
              "  <style>\n",
              "    .colab-df-container {\n",
              "      display:flex;\n",
              "      flex-wrap:wrap;\n",
              "      gap: 12px;\n",
              "    }\n",
              "\n",
              "    .colab-df-convert {\n",
              "      background-color: #E8F0FE;\n",
              "      border: none;\n",
              "      border-radius: 50%;\n",
              "      cursor: pointer;\n",
              "      display: none;\n",
              "      fill: #1967D2;\n",
              "      height: 32px;\n",
              "      padding: 0 0 0 0;\n",
              "      width: 32px;\n",
              "    }\n",
              "\n",
              "    .colab-df-convert:hover {\n",
              "      background-color: #E2EBFA;\n",
              "      box-shadow: 0px 1px 2px rgba(60, 64, 67, 0.3), 0px 1px 3px 1px rgba(60, 64, 67, 0.15);\n",
              "      fill: #174EA6;\n",
              "    }\n",
              "\n",
              "    [theme=dark] .colab-df-convert {\n",
              "      background-color: #3B4455;\n",
              "      fill: #D2E3FC;\n",
              "    }\n",
              "\n",
              "    [theme=dark] .colab-df-convert:hover {\n",
              "      background-color: #434B5C;\n",
              "      box-shadow: 0px 1px 3px 1px rgba(0, 0, 0, 0.15);\n",
              "      filter: drop-shadow(0px 1px 2px rgba(0, 0, 0, 0.3));\n",
              "      fill: #FFFFFF;\n",
              "    }\n",
              "  </style>\n",
              "\n",
              "      <script>\n",
              "        const buttonEl =\n",
              "          document.querySelector('#df-a3a3ccf6-4f56-4791-a34a-29468d6ce109 button.colab-df-convert');\n",
              "        buttonEl.style.display =\n",
              "          google.colab.kernel.accessAllowed ? 'block' : 'none';\n",
              "\n",
              "        async function convertToInteractive(key) {\n",
              "          const element = document.querySelector('#df-a3a3ccf6-4f56-4791-a34a-29468d6ce109');\n",
              "          const dataTable =\n",
              "            await google.colab.kernel.invokeFunction('convertToInteractive',\n",
              "                                                     [key], {});\n",
              "          if (!dataTable) return;\n",
              "\n",
              "          const docLinkHtml = 'Like what you see? Visit the ' +\n",
              "            '<a target=\"_blank\" href=https://colab.research.google.com/notebooks/data_table.ipynb>data table notebook</a>'\n",
              "            + ' to learn more about interactive tables.';\n",
              "          element.innerHTML = '';\n",
              "          dataTable['output_type'] = 'display_data';\n",
              "          await google.colab.output.renderOutput(dataTable, element);\n",
              "          const docLink = document.createElement('div');\n",
              "          docLink.innerHTML = docLinkHtml;\n",
              "          element.appendChild(docLink);\n",
              "        }\n",
              "      </script>\n",
              "    </div>\n",
              "  </div>\n",
              "  "
            ]
          },
          "metadata": {},
          "execution_count": 201
        }
      ]
    },
    {
      "cell_type": "code",
      "source": [
        "df_gb2=df.groupby('cidade').agg({'peso':'mean'}).reset_index()\n",
        "df_gb2"
      ],
      "metadata": {
        "colab": {
          "base_uri": "https://localhost:8080/",
          "height": 143
        },
        "id": "b3o4Qh2cuU0b",
        "outputId": "cb2897f0-5dae-4fa9-9c5b-0852c585a661"
      },
      "execution_count": 202,
      "outputs": [
        {
          "output_type": "execute_result",
          "data": {
            "text/plain": [
              "     cidade  peso\n",
              "0  camacari  80.5\n",
              "1     lauro  91.0\n",
              "2  salvador  71.8"
            ],
            "text/html": [
              "\n",
              "  <div id=\"df-77c82c43-76ca-4091-b322-93648d5b4d22\">\n",
              "    <div class=\"colab-df-container\">\n",
              "      <div>\n",
              "<style scoped>\n",
              "    .dataframe tbody tr th:only-of-type {\n",
              "        vertical-align: middle;\n",
              "    }\n",
              "\n",
              "    .dataframe tbody tr th {\n",
              "        vertical-align: top;\n",
              "    }\n",
              "\n",
              "    .dataframe thead th {\n",
              "        text-align: right;\n",
              "    }\n",
              "</style>\n",
              "<table border=\"1\" class=\"dataframe\">\n",
              "  <thead>\n",
              "    <tr style=\"text-align: right;\">\n",
              "      <th></th>\n",
              "      <th>cidade</th>\n",
              "      <th>peso</th>\n",
              "    </tr>\n",
              "  </thead>\n",
              "  <tbody>\n",
              "    <tr>\n",
              "      <th>0</th>\n",
              "      <td>camacari</td>\n",
              "      <td>80.5</td>\n",
              "    </tr>\n",
              "    <tr>\n",
              "      <th>1</th>\n",
              "      <td>lauro</td>\n",
              "      <td>91.0</td>\n",
              "    </tr>\n",
              "    <tr>\n",
              "      <th>2</th>\n",
              "      <td>salvador</td>\n",
              "      <td>71.8</td>\n",
              "    </tr>\n",
              "  </tbody>\n",
              "</table>\n",
              "</div>\n",
              "      <button class=\"colab-df-convert\" onclick=\"convertToInteractive('df-77c82c43-76ca-4091-b322-93648d5b4d22')\"\n",
              "              title=\"Convert this dataframe to an interactive table.\"\n",
              "              style=\"display:none;\">\n",
              "        \n",
              "  <svg xmlns=\"http://www.w3.org/2000/svg\" height=\"24px\"viewBox=\"0 0 24 24\"\n",
              "       width=\"24px\">\n",
              "    <path d=\"M0 0h24v24H0V0z\" fill=\"none\"/>\n",
              "    <path d=\"M18.56 5.44l.94 2.06.94-2.06 2.06-.94-2.06-.94-.94-2.06-.94 2.06-2.06.94zm-11 1L8.5 8.5l.94-2.06 2.06-.94-2.06-.94L8.5 2.5l-.94 2.06-2.06.94zm10 10l.94 2.06.94-2.06 2.06-.94-2.06-.94-.94-2.06-.94 2.06-2.06.94z\"/><path d=\"M17.41 7.96l-1.37-1.37c-.4-.4-.92-.59-1.43-.59-.52 0-1.04.2-1.43.59L10.3 9.45l-7.72 7.72c-.78.78-.78 2.05 0 2.83L4 21.41c.39.39.9.59 1.41.59.51 0 1.02-.2 1.41-.59l7.78-7.78 2.81-2.81c.8-.78.8-2.07 0-2.86zM5.41 20L4 18.59l7.72-7.72 1.47 1.35L5.41 20z\"/>\n",
              "  </svg>\n",
              "      </button>\n",
              "      \n",
              "  <style>\n",
              "    .colab-df-container {\n",
              "      display:flex;\n",
              "      flex-wrap:wrap;\n",
              "      gap: 12px;\n",
              "    }\n",
              "\n",
              "    .colab-df-convert {\n",
              "      background-color: #E8F0FE;\n",
              "      border: none;\n",
              "      border-radius: 50%;\n",
              "      cursor: pointer;\n",
              "      display: none;\n",
              "      fill: #1967D2;\n",
              "      height: 32px;\n",
              "      padding: 0 0 0 0;\n",
              "      width: 32px;\n",
              "    }\n",
              "\n",
              "    .colab-df-convert:hover {\n",
              "      background-color: #E2EBFA;\n",
              "      box-shadow: 0px 1px 2px rgba(60, 64, 67, 0.3), 0px 1px 3px 1px rgba(60, 64, 67, 0.15);\n",
              "      fill: #174EA6;\n",
              "    }\n",
              "\n",
              "    [theme=dark] .colab-df-convert {\n",
              "      background-color: #3B4455;\n",
              "      fill: #D2E3FC;\n",
              "    }\n",
              "\n",
              "    [theme=dark] .colab-df-convert:hover {\n",
              "      background-color: #434B5C;\n",
              "      box-shadow: 0px 1px 3px 1px rgba(0, 0, 0, 0.15);\n",
              "      filter: drop-shadow(0px 1px 2px rgba(0, 0, 0, 0.3));\n",
              "      fill: #FFFFFF;\n",
              "    }\n",
              "  </style>\n",
              "\n",
              "      <script>\n",
              "        const buttonEl =\n",
              "          document.querySelector('#df-77c82c43-76ca-4091-b322-93648d5b4d22 button.colab-df-convert');\n",
              "        buttonEl.style.display =\n",
              "          google.colab.kernel.accessAllowed ? 'block' : 'none';\n",
              "\n",
              "        async function convertToInteractive(key) {\n",
              "          const element = document.querySelector('#df-77c82c43-76ca-4091-b322-93648d5b4d22');\n",
              "          const dataTable =\n",
              "            await google.colab.kernel.invokeFunction('convertToInteractive',\n",
              "                                                     [key], {});\n",
              "          if (!dataTable) return;\n",
              "\n",
              "          const docLinkHtml = 'Like what you see? Visit the ' +\n",
              "            '<a target=\"_blank\" href=https://colab.research.google.com/notebooks/data_table.ipynb>data table notebook</a>'\n",
              "            + ' to learn more about interactive tables.';\n",
              "          element.innerHTML = '';\n",
              "          dataTable['output_type'] = 'display_data';\n",
              "          await google.colab.output.renderOutput(dataTable, element);\n",
              "          const docLink = document.createElement('div');\n",
              "          docLink.innerHTML = docLinkHtml;\n",
              "          element.appendChild(docLink);\n",
              "        }\n",
              "      </script>\n",
              "    </div>\n",
              "  </div>\n",
              "  "
            ]
          },
          "metadata": {},
          "execution_count": 202
        }
      ]
    },
    {
      "cell_type": "code",
      "source": [
        "df_gb3=df.groupby('cidade').agg({'peso':'mean','altura':'mean'}).reset_index()\n",
        "df_gb3"
      ],
      "metadata": {
        "colab": {
          "base_uri": "https://localhost:8080/",
          "height": 143
        },
        "id": "RR_WICFYvA6f",
        "outputId": "8c330a34-2bd5-4d7a-8f00-5d027246ee70"
      },
      "execution_count": 204,
      "outputs": [
        {
          "output_type": "execute_result",
          "data": {
            "text/plain": [
              "     cidade  peso      altura\n",
              "0  camacari  80.5  175.500000\n",
              "1     lauro  91.0  167.666667\n",
              "2  salvador  71.8  159.800000"
            ],
            "text/html": [
              "\n",
              "  <div id=\"df-6123915a-ff8f-49f2-bb10-8060d0bcaca9\">\n",
              "    <div class=\"colab-df-container\">\n",
              "      <div>\n",
              "<style scoped>\n",
              "    .dataframe tbody tr th:only-of-type {\n",
              "        vertical-align: middle;\n",
              "    }\n",
              "\n",
              "    .dataframe tbody tr th {\n",
              "        vertical-align: top;\n",
              "    }\n",
              "\n",
              "    .dataframe thead th {\n",
              "        text-align: right;\n",
              "    }\n",
              "</style>\n",
              "<table border=\"1\" class=\"dataframe\">\n",
              "  <thead>\n",
              "    <tr style=\"text-align: right;\">\n",
              "      <th></th>\n",
              "      <th>cidade</th>\n",
              "      <th>peso</th>\n",
              "      <th>altura</th>\n",
              "    </tr>\n",
              "  </thead>\n",
              "  <tbody>\n",
              "    <tr>\n",
              "      <th>0</th>\n",
              "      <td>camacari</td>\n",
              "      <td>80.5</td>\n",
              "      <td>175.500000</td>\n",
              "    </tr>\n",
              "    <tr>\n",
              "      <th>1</th>\n",
              "      <td>lauro</td>\n",
              "      <td>91.0</td>\n",
              "      <td>167.666667</td>\n",
              "    </tr>\n",
              "    <tr>\n",
              "      <th>2</th>\n",
              "      <td>salvador</td>\n",
              "      <td>71.8</td>\n",
              "      <td>159.800000</td>\n",
              "    </tr>\n",
              "  </tbody>\n",
              "</table>\n",
              "</div>\n",
              "      <button class=\"colab-df-convert\" onclick=\"convertToInteractive('df-6123915a-ff8f-49f2-bb10-8060d0bcaca9')\"\n",
              "              title=\"Convert this dataframe to an interactive table.\"\n",
              "              style=\"display:none;\">\n",
              "        \n",
              "  <svg xmlns=\"http://www.w3.org/2000/svg\" height=\"24px\"viewBox=\"0 0 24 24\"\n",
              "       width=\"24px\">\n",
              "    <path d=\"M0 0h24v24H0V0z\" fill=\"none\"/>\n",
              "    <path d=\"M18.56 5.44l.94 2.06.94-2.06 2.06-.94-2.06-.94-.94-2.06-.94 2.06-2.06.94zm-11 1L8.5 8.5l.94-2.06 2.06-.94-2.06-.94L8.5 2.5l-.94 2.06-2.06.94zm10 10l.94 2.06.94-2.06 2.06-.94-2.06-.94-.94-2.06-.94 2.06-2.06.94z\"/><path d=\"M17.41 7.96l-1.37-1.37c-.4-.4-.92-.59-1.43-.59-.52 0-1.04.2-1.43.59L10.3 9.45l-7.72 7.72c-.78.78-.78 2.05 0 2.83L4 21.41c.39.39.9.59 1.41.59.51 0 1.02-.2 1.41-.59l7.78-7.78 2.81-2.81c.8-.78.8-2.07 0-2.86zM5.41 20L4 18.59l7.72-7.72 1.47 1.35L5.41 20z\"/>\n",
              "  </svg>\n",
              "      </button>\n",
              "      \n",
              "  <style>\n",
              "    .colab-df-container {\n",
              "      display:flex;\n",
              "      flex-wrap:wrap;\n",
              "      gap: 12px;\n",
              "    }\n",
              "\n",
              "    .colab-df-convert {\n",
              "      background-color: #E8F0FE;\n",
              "      border: none;\n",
              "      border-radius: 50%;\n",
              "      cursor: pointer;\n",
              "      display: none;\n",
              "      fill: #1967D2;\n",
              "      height: 32px;\n",
              "      padding: 0 0 0 0;\n",
              "      width: 32px;\n",
              "    }\n",
              "\n",
              "    .colab-df-convert:hover {\n",
              "      background-color: #E2EBFA;\n",
              "      box-shadow: 0px 1px 2px rgba(60, 64, 67, 0.3), 0px 1px 3px 1px rgba(60, 64, 67, 0.15);\n",
              "      fill: #174EA6;\n",
              "    }\n",
              "\n",
              "    [theme=dark] .colab-df-convert {\n",
              "      background-color: #3B4455;\n",
              "      fill: #D2E3FC;\n",
              "    }\n",
              "\n",
              "    [theme=dark] .colab-df-convert:hover {\n",
              "      background-color: #434B5C;\n",
              "      box-shadow: 0px 1px 3px 1px rgba(0, 0, 0, 0.15);\n",
              "      filter: drop-shadow(0px 1px 2px rgba(0, 0, 0, 0.3));\n",
              "      fill: #FFFFFF;\n",
              "    }\n",
              "  </style>\n",
              "\n",
              "      <script>\n",
              "        const buttonEl =\n",
              "          document.querySelector('#df-6123915a-ff8f-49f2-bb10-8060d0bcaca9 button.colab-df-convert');\n",
              "        buttonEl.style.display =\n",
              "          google.colab.kernel.accessAllowed ? 'block' : 'none';\n",
              "\n",
              "        async function convertToInteractive(key) {\n",
              "          const element = document.querySelector('#df-6123915a-ff8f-49f2-bb10-8060d0bcaca9');\n",
              "          const dataTable =\n",
              "            await google.colab.kernel.invokeFunction('convertToInteractive',\n",
              "                                                     [key], {});\n",
              "          if (!dataTable) return;\n",
              "\n",
              "          const docLinkHtml = 'Like what you see? Visit the ' +\n",
              "            '<a target=\"_blank\" href=https://colab.research.google.com/notebooks/data_table.ipynb>data table notebook</a>'\n",
              "            + ' to learn more about interactive tables.';\n",
              "          element.innerHTML = '';\n",
              "          dataTable['output_type'] = 'display_data';\n",
              "          await google.colab.output.renderOutput(dataTable, element);\n",
              "          const docLink = document.createElement('div');\n",
              "          docLink.innerHTML = docLinkHtml;\n",
              "          element.appendChild(docLink);\n",
              "        }\n",
              "      </script>\n",
              "    </div>\n",
              "  </div>\n",
              "  "
            ]
          },
          "metadata": {},
          "execution_count": 204
        }
      ]
    },
    {
      "cell_type": "markdown",
      "source": [
        "#agregação"
      ],
      "metadata": {
        "id": "FPhcVxbZNFMu"
      }
    },
    {
      "cell_type": "code",
      "source": [
        "df_agg_01=df['peso'].agg(sum)\n",
        "print(df_agg_01)"
      ],
      "metadata": {
        "colab": {
          "base_uri": "https://localhost:8080/"
        },
        "id": "CQCHB9q2Mp4c",
        "outputId": "cee343a3-30e0-4c74-9619-f3b1a19911ca"
      },
      "execution_count": 205,
      "outputs": [
        {
          "output_type": "stream",
          "name": "stdout",
          "text": [
            "793\n"
          ]
        }
      ]
    },
    {
      "cell_type": "code",
      "source": [
        "df_agg_02=df[['peso','altura']].agg(max)\n",
        "print(df_agg_02)"
      ],
      "metadata": {
        "colab": {
          "base_uri": "https://localhost:8080/"
        },
        "id": "B_I2XugpNKz_",
        "outputId": "11d019c5-8a30-4902-8fc5-cee010e1eb49"
      },
      "execution_count": 207,
      "outputs": [
        {
          "output_type": "stream",
          "name": "stdout",
          "text": [
            "peso      107\n",
            "altura    180\n",
            "dtype: int64\n"
          ]
        }
      ]
    },
    {
      "cell_type": "markdown",
      "source": [
        "#Criando um status para a coluna imc"
      ],
      "metadata": {
        "id": "cyP8lJLaPq_k"
      }
    },
    {
      "cell_type": "code",
      "source": [
        "df['status']=['você está ok' if 20<=imc<=25 else 'precisa emagrecer' for imc in df['imc']]\n",
        "print(df)"
      ],
      "metadata": {
        "colab": {
          "base_uri": "https://localhost:8080/"
        },
        "id": "QjuKqTgXqeGh",
        "outputId": "47decdeb-84d8-4b18-ab4d-fecfdf439075"
      },
      "execution_count": 210,
      "outputs": [
        {
          "output_type": "stream",
          "name": "stdout",
          "text": [
            "      nome  idade  peso  altura data_nascimento    cidade  mat  sexo  \\\n",
            "0      ana     23    56     156      20-05-2018  salvador  123     1   \n",
            "1    pedro     25    86     166      20-06-2017  salvador  124     0   \n",
            "2    paulo     28    76     176      20-07-2018  camacari  223     0   \n",
            "3    david     21   107     167      20-08-2016     lauro  529     0   \n",
            "4    pedro     23    92     162      20-09-2018  salvador  628     0   \n",
            "5    maria     33    80     180      20-12-2017     lauro  723     1   \n",
            "6    julia     33    85     175      20-11-2016  camacari  821     1   \n",
            "7    carol     35    86     156      20-04-2019     lauro  927     1   \n",
            "8  ricardo     33    78     158      20-05-2018  salvador  835     0   \n",
            "9    joana     23    47     157      20-02-2017  salvador  553     1   \n",
            "\n",
            "         imc data_padrao   ano             status  \n",
            "0  23.011177  2018-05-20  2018       você está ok  \n",
            "1  31.209174  2017-06-20  2017  precisa emagrecer  \n",
            "2  24.535124  2018-07-20  2018       você está ok  \n",
            "3  38.366381  2016-08-20  2016  precisa emagrecer  \n",
            "4  35.055632  2018-09-20  2018  precisa emagrecer  \n",
            "5  24.691358  2017-12-20  2017       você está ok  \n",
            "6  27.755102  2016-11-20  2016  precisa emagrecer  \n",
            "7  35.338593  2019-04-20  2019  precisa emagrecer  \n",
            "8  31.244993  2018-05-20  2018  precisa emagrecer  \n",
            "9  19.067711  2017-02-20  2017  precisa emagrecer  \n"
          ]
        }
      ]
    },
    {
      "cell_type": "code",
      "source": [
        "df5=df.loc[df['status']=='você está ok']\n",
        "print(df5)"
      ],
      "metadata": {
        "colab": {
          "base_uri": "https://localhost:8080/"
        },
        "id": "Ia_KYDPPQMua",
        "outputId": "c08496fd-8c54-49f0-e323-5f0c99583d93"
      },
      "execution_count": 212,
      "outputs": [
        {
          "output_type": "stream",
          "name": "stdout",
          "text": [
            "    nome  idade  peso  altura data_nascimento    cidade  mat  sexo        imc  \\\n",
            "0    ana     23    56     156      20-05-2018  salvador  123     1  23.011177   \n",
            "2  paulo     28    76     176      20-07-2018  camacari  223     0  24.535124   \n",
            "5  maria     33    80     180      20-12-2017     lauro  723     1  24.691358   \n",
            "\n",
            "  data_padrao   ano        status  \n",
            "0  2018-05-20  2018  você está ok  \n",
            "2  2018-07-20  2018  você está ok  \n",
            "5  2017-12-20  2017  você está ok  \n"
          ]
        }
      ]
    },
    {
      "cell_type": "code",
      "source": [
        "#renomeando uma coluna\n",
        "df=df.rename(columns={'sexo':'genero'})\n",
        "print(df)"
      ],
      "metadata": {
        "colab": {
          "base_uri": "https://localhost:8080/"
        },
        "id": "QqLTtY0aqeVp",
        "outputId": "4e79fe92-3a74-4c08-f1ca-bf407d44fe39"
      },
      "execution_count": 213,
      "outputs": [
        {
          "output_type": "stream",
          "name": "stdout",
          "text": [
            "      nome  idade  peso  altura data_nascimento    cidade  mat  genero  \\\n",
            "0      ana     23    56     156      20-05-2018  salvador  123       1   \n",
            "1    pedro     25    86     166      20-06-2017  salvador  124       0   \n",
            "2    paulo     28    76     176      20-07-2018  camacari  223       0   \n",
            "3    david     21   107     167      20-08-2016     lauro  529       0   \n",
            "4    pedro     23    92     162      20-09-2018  salvador  628       0   \n",
            "5    maria     33    80     180      20-12-2017     lauro  723       1   \n",
            "6    julia     33    85     175      20-11-2016  camacari  821       1   \n",
            "7    carol     35    86     156      20-04-2019     lauro  927       1   \n",
            "8  ricardo     33    78     158      20-05-2018  salvador  835       0   \n",
            "9    joana     23    47     157      20-02-2017  salvador  553       1   \n",
            "\n",
            "         imc data_padrao   ano             status  \n",
            "0  23.011177  2018-05-20  2018       você está ok  \n",
            "1  31.209174  2017-06-20  2017  precisa emagrecer  \n",
            "2  24.535124  2018-07-20  2018       você está ok  \n",
            "3  38.366381  2016-08-20  2016  precisa emagrecer  \n",
            "4  35.055632  2018-09-20  2018  precisa emagrecer  \n",
            "5  24.691358  2017-12-20  2017       você está ok  \n",
            "6  27.755102  2016-11-20  2016  precisa emagrecer  \n",
            "7  35.338593  2019-04-20  2019  precisa emagrecer  \n",
            "8  31.244993  2018-05-20  2018  precisa emagrecer  \n",
            "9  19.067711  2017-02-20  2017  precisa emagrecer  \n"
          ]
        }
      ]
    },
    {
      "cell_type": "code",
      "source": [],
      "metadata": {
        "id": "LoOWz253qeij"
      },
      "execution_count": 178,
      "outputs": []
    }
  ]
}